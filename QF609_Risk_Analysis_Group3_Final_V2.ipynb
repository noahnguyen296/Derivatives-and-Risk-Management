{
 "cells": [
  {
   "cell_type": "markdown",
   "id": "1ad44a6a-3e1b-4722-b92f-a2a6f5ec9578",
   "metadata": {},
   "source": [
    "## <B> QF609 PROJECT - GROUP 3\n",
    "#### 1. Zhao Geping\n",
    "#### 2. Lu TingJia\n",
    "#### 3. Xie Zuoyu\n",
    "#### 4. Harshita Sachdev\n",
    "#### 5. Zhang Yonghan \n",
    "#### 6. Horge Dragos\n",
    "#### 7. Nguyen Thanh Binh (group leader)"
   ]
  },
  {
   "cell_type": "markdown",
   "id": "5d038447-8089-4035-b8e4-f67748156a1a",
   "metadata": {},
   "source": [
    "## SUMMARY OF THE PROJECT"
   ]
  },
  {
   "cell_type": "markdown",
   "id": "19356517-4f56-4288-9d5f-bd3121b4eab6",
   "metadata": {},
   "source": [
    "**We have a portfolio consisting of:**\n",
    "- A SOFR swap (where we are the fixer payer, i.e., the floating-rate receiver)\n",
    "- Equity: 4 U.S. stocks\n",
    "\n",
    "**Data provided:**\n",
    "- Historical SOFR curve\n",
    "- Historical stock prices\n",
    "\n",
    "**Tasks:**\n",
    "- Calculate Parametric VaR.\n",
    "- Calculate Monte Carlo VaR using: a) Full revaluation b) Risk-based method.\n",
    "- Calculate Historical VaR using: a) Full revaluation b) Risk-based method."
   ]
  },
  {
   "cell_type": "markdown",
   "id": "a96fa257-5474-4709-9ba9-05a68fd87be5",
   "metadata": {},
   "source": [
    "## GENERAL APPROACH"
   ]
  },
  {
   "cell_type": "markdown",
   "id": "69100698-b5e9-4722-a69a-0a65b754c5f2",
   "metadata": {},
   "source": [
    "**With the assumption of `normal distribution`, the major step is to calculate the mean and variance of the whole portfolio in terms of dollar amount, then use these values to calculate VaR.**\n",
    "\n",
    "**Risk factors of the portfolio**:\n",
    "1. The changes in the SOFR rate of the swap tenors  \n",
    "2. The changes in stock prices\n",
    "\n",
    "---\n",
    "\n",
    "- Calculating VaR is effectively finding a value at a certain percentile threshold.\n",
    "\n",
    "---\n",
    "\n",
    "- To calculate the mean changes in the portfolio value, we use the formula:\n",
    "\n",
    "$$\n",
    "\\overline{\\Delta P} = \\vec{w}_P \\cdot \\vec{\\mu}_P\n",
    "$$\n",
    "\n",
    "where $\\vec{\\mu}_P$ represents the mean changes of the risk factors in the portfolio, and $\\vec{w}_P$ represents the weights (loading) of those factors.\n",
    "\n",
    "---\n",
    "- To calculate the portfolio variance, we can use the following dot product:\n",
    "\n",
    "$$\n",
    "\\vec{w}_P^\\mathsf{T} \\, \\Sigma \\, \\vec{w}_P\n",
    "$$\n",
    "\n",
    "where $\\Sigma \\$ is the covariance of the daily changes of the risk factors in the portfolio.\n",
    "\n",
    "---\n",
    "\n",
    "- To find $\\vec{w}_P$, note that our portfolio has two major sub-portfolios: \n",
    "1. The swap  \n",
    "2. The equity  \n",
    "\n",
    "Each requires different methods:\n",
    "\n",
    "- **For SOFR tenors**: we calculate `partial DV01`, which is the impact on the swap value of a 1bps increase in the SOFR of a tenor.  \n",
    "- **For the equity**: their weights are simply their dollar positions, which is 1 million USD each in this project. (Multiplying these \\$1 million by their daily changes will provide the impacts of their daily changes on the whole portfolio.)\n",
    "\n",
    "---\n",
    "\n",
    "Following this, we can calculate the VaR estimates."
   ]
  },
  {
   "cell_type": "code",
   "execution_count": null,
   "id": "9f884e09-bfcc-4535-8976-766da86203c1",
   "metadata": {},
   "outputs": [],
   "source": []
  },
  {
   "cell_type": "code",
   "execution_count": 6,
   "id": "119a7aae-c7d7-4d92-a527-8c464fd5b490",
   "metadata": {},
   "outputs": [],
   "source": [
    "import pandas as pd\n",
    "import numpy as np\n",
    "import matplotlib.pyplot as plt\n",
    "\n",
    "import datetime as dt\n",
    "\n",
    "from scipy.stats import norm"
   ]
  },
  {
   "cell_type": "code",
   "execution_count": 7,
   "id": "0ba76354-e92b-47e6-abd4-d25170b4e6a4",
   "metadata": {},
   "outputs": [
    {
     "data": {
      "text/html": [
       "<div>\n",
       "<style scoped>\n",
       "    .dataframe tbody tr th:only-of-type {\n",
       "        vertical-align: middle;\n",
       "    }\n",
       "\n",
       "    .dataframe tbody tr th {\n",
       "        vertical-align: top;\n",
       "    }\n",
       "\n",
       "    .dataframe thead th {\n",
       "        text-align: right;\n",
       "    }\n",
       "</style>\n",
       "<table border=\"1\" class=\"dataframe\">\n",
       "  <thead>\n",
       "    <tr style=\"text-align: right;\">\n",
       "      <th></th>\n",
       "      <th>T</th>\n",
       "      <th>2022-10-31</th>\n",
       "      <th>2022-11-01</th>\n",
       "      <th>2022-11-02</th>\n",
       "      <th>2022-11-03</th>\n",
       "      <th>2022-11-04</th>\n",
       "      <th>2022-11-07</th>\n",
       "      <th>2022-11-08</th>\n",
       "      <th>2022-11-09</th>\n",
       "      <th>2022-11-10</th>\n",
       "      <th>...</th>\n",
       "      <th>2023-10-17</th>\n",
       "      <th>2023-10-18</th>\n",
       "      <th>2023-10-19</th>\n",
       "      <th>2023-10-20</th>\n",
       "      <th>2023-10-23</th>\n",
       "      <th>2023-10-24</th>\n",
       "      <th>2023-10-25</th>\n",
       "      <th>2023-10-26</th>\n",
       "      <th>2023-10-27</th>\n",
       "      <th>2023-10-30</th>\n",
       "    </tr>\n",
       "    <tr>\n",
       "      <th>Tenor</th>\n",
       "      <th></th>\n",
       "      <th></th>\n",
       "      <th></th>\n",
       "      <th></th>\n",
       "      <th></th>\n",
       "      <th></th>\n",
       "      <th></th>\n",
       "      <th></th>\n",
       "      <th></th>\n",
       "      <th></th>\n",
       "      <th></th>\n",
       "      <th></th>\n",
       "      <th></th>\n",
       "      <th></th>\n",
       "      <th></th>\n",
       "      <th></th>\n",
       "      <th></th>\n",
       "      <th></th>\n",
       "      <th></th>\n",
       "      <th></th>\n",
       "      <th></th>\n",
       "    </tr>\n",
       "  </thead>\n",
       "  <tbody>\n",
       "    <tr>\n",
       "      <th>1D</th>\n",
       "      <td>0.002778</td>\n",
       "      <td>0.039191</td>\n",
       "      <td>0.039604</td>\n",
       "      <td>0.039948</td>\n",
       "      <td>0.040389</td>\n",
       "      <td>0.045965</td>\n",
       "      <td>0.040224</td>\n",
       "      <td>0.040339</td>\n",
       "      <td>0.040373</td>\n",
       "      <td>0.052075</td>\n",
       "      <td>...</td>\n",
       "      <td>0.052964</td>\n",
       "      <td>0.053038</td>\n",
       "      <td>0.053050</td>\n",
       "      <td>0.053072</td>\n",
       "      <td>0.053090</td>\n",
       "      <td>0.053105</td>\n",
       "      <td>0.052981</td>\n",
       "      <td>0.053047</td>\n",
       "      <td>0.052989</td>\n",
       "      <td>0.052967</td>\n",
       "    </tr>\n",
       "    <tr>\n",
       "      <th>1M</th>\n",
       "      <td>0.083333</td>\n",
       "      <td>0.038721</td>\n",
       "      <td>0.039023</td>\n",
       "      <td>0.039286</td>\n",
       "      <td>0.039585</td>\n",
       "      <td>0.042343</td>\n",
       "      <td>0.039258</td>\n",
       "      <td>0.039211</td>\n",
       "      <td>0.039193</td>\n",
       "      <td>0.043694</td>\n",
       "      <td>...</td>\n",
       "      <td>0.053114</td>\n",
       "      <td>0.053102</td>\n",
       "      <td>0.053086</td>\n",
       "      <td>0.053046</td>\n",
       "      <td>0.053077</td>\n",
       "      <td>0.053084</td>\n",
       "      <td>0.053057</td>\n",
       "      <td>0.053089</td>\n",
       "      <td>0.053040</td>\n",
       "      <td>0.053053</td>\n",
       "    </tr>\n",
       "    <tr>\n",
       "      <th>2M</th>\n",
       "      <td>0.166667</td>\n",
       "      <td>0.038670</td>\n",
       "      <td>0.038886</td>\n",
       "      <td>0.039100</td>\n",
       "      <td>0.039350</td>\n",
       "      <td>0.038795</td>\n",
       "      <td>0.039460</td>\n",
       "      <td>0.039420</td>\n",
       "      <td>0.039483</td>\n",
       "      <td>0.038786</td>\n",
       "      <td>...</td>\n",
       "      <td>0.053374</td>\n",
       "      <td>0.053284</td>\n",
       "      <td>0.053226</td>\n",
       "      <td>0.053128</td>\n",
       "      <td>0.053191</td>\n",
       "      <td>0.053202</td>\n",
       "      <td>0.053259</td>\n",
       "      <td>0.053218</td>\n",
       "      <td>0.053185</td>\n",
       "      <td>0.053265</td>\n",
       "    </tr>\n",
       "  </tbody>\n",
       "</table>\n",
       "<p>3 rows × 252 columns</p>\n",
       "</div>"
      ],
      "text/plain": [
       "              T  2022-10-31  2022-11-01  2022-11-02  2022-11-03  2022-11-04  \\\n",
       "Tenor                                                                         \n",
       "1D     0.002778    0.039191    0.039604    0.039948    0.040389    0.045965   \n",
       "1M     0.083333    0.038721    0.039023    0.039286    0.039585    0.042343   \n",
       "2M     0.166667    0.038670    0.038886    0.039100    0.039350    0.038795   \n",
       "\n",
       "       2022-11-07  2022-11-08  2022-11-09  2022-11-10  ...  2023-10-17  \\\n",
       "Tenor                                                  ...               \n",
       "1D       0.040224    0.040339    0.040373    0.052075  ...    0.052964   \n",
       "1M       0.039258    0.039211    0.039193    0.043694  ...    0.053114   \n",
       "2M       0.039460    0.039420    0.039483    0.038786  ...    0.053374   \n",
       "\n",
       "       2023-10-18  2023-10-19  2023-10-20  2023-10-23  2023-10-24  2023-10-25  \\\n",
       "Tenor                                                                           \n",
       "1D       0.053038    0.053050    0.053072    0.053090    0.053105    0.052981   \n",
       "1M       0.053102    0.053086    0.053046    0.053077    0.053084    0.053057   \n",
       "2M       0.053284    0.053226    0.053128    0.053191    0.053202    0.053259   \n",
       "\n",
       "       2023-10-26  2023-10-27  2023-10-30  \n",
       "Tenor                                      \n",
       "1D       0.053047    0.052989    0.052967  \n",
       "1M       0.053089    0.053040    0.053053  \n",
       "2M       0.053218    0.053185    0.053265  \n",
       "\n",
       "[3 rows x 252 columns]"
      ]
     },
     "execution_count": 7,
     "metadata": {},
     "output_type": "execute_result"
    }
   ],
   "source": [
    "SOFR_df = pd.read_excel('hist_data.xlsm', sheet_name = 'SofrCurve', index_col = 'Tenor')\n",
    "SOFR_df.columns = [col.strftime('%Y-%m-%d') if isinstance(col, dt.datetime) else col for col in SOFR_df.columns]\n",
    "SOFR_df.head(3)"
   ]
  },
  {
   "cell_type": "markdown",
   "id": "da8cae7e-2fe6-4048-87fb-003f0cd45bc6",
   "metadata": {},
   "source": [
    "## 1. DATA PREPARATION"
   ]
  },
  {
   "cell_type": "markdown",
   "id": "5686e3b9-60f6-4c54-81e6-f1e7e4b88079",
   "metadata": {},
   "source": [
    "### 1.1. DEFINE RE-USABLE FUNCTIONS"
   ]
  },
  {
   "cell_type": "markdown",
   "id": "f00036d9-1452-465a-a10e-2817a859f2d0",
   "metadata": {},
   "source": [
    "#### 1.1.1. Select the relevant data\n",
    "* As the swap has annual payments and maturity of 10 years, we only need the SOFR corresponding to the tenors from 1Y to 10Y."
   ]
  },
  {
   "cell_type": "code",
   "execution_count": 11,
   "id": "3ee0c528-51c8-4b00-bd5e-5407366865dc",
   "metadata": {},
   "outputs": [],
   "source": [
    "def Swap_data_prep(SOFR_df, Tenor_col = 'T', T_min = 1, T_max = 10): \n",
    "    \"\"\"\n",
    "    Some data pre processing so that the function is re-usable for other similar data and projects\n",
    "\n",
    "    Inputs:\n",
    "    - SOFR_df (DataFrame): raw data containing the tenors in years and the SOFR\n",
    "    - T_min (float): the minimum tenor to be used, representing the payment structure, i.e. T = 1 for annual payment\n",
    "    - T_max (float): represent the maturity of the swap\n",
    "    \n",
    "    Outputs:\n",
    "    - Swap_df (DataFrame): a DataFrame with relevant SOFR for swap valuation\n",
    "    \"\"\"\n",
    "\n",
    "    # Sorting the data by Tenors\n",
    "    Swap_df = SOFR_df.copy()\n",
    "    Swap_df[Tenor_col] = pd.to_numeric(Swap_df[Tenor_col], errors='coerce')\n",
    "    Swap_df = Swap_df.sort_values(by = Tenor_col)\n",
    "\n",
    "    # Slicing the relevant part of the data according to the maturity of the instrument\n",
    "    Swap_df = Swap_df[Swap_df[Tenor_col].between(T_min, T_max)]\n",
    "\n",
    "    return Swap_df"
   ]
  },
  {
   "cell_type": "code",
   "execution_count": 12,
   "id": "bada658c-587d-488a-b483-521723c19473",
   "metadata": {},
   "outputs": [],
   "source": [
    "Swap_df = Swap_data_prep(SOFR_df)\n",
    "\n",
    "Swap_df = Swap_df.apply(pd.to_numeric, errors = 'coerce')"
   ]
  },
  {
   "cell_type": "code",
   "execution_count": 13,
   "id": "eb824268-6b67-4323-b36c-babab87c948f",
   "metadata": {},
   "outputs": [],
   "source": [
    "# Swap_df.T.isna().sum()"
   ]
  },
  {
   "cell_type": "code",
   "execution_count": 14,
   "id": "2eb7b046-1ff3-4d92-94ee-67a274d622f8",
   "metadata": {},
   "outputs": [
    {
     "data": {
      "text/plain": [
       "Index(['2022-11-08'], dtype='object')"
      ]
     },
     "execution_count": 14,
     "metadata": {},
     "output_type": "execute_result"
    }
   ],
   "source": [
    "# As there is only one NaN, we only do a simple linear interpolation here rather then def a function\n",
    "\n",
    "NaN_idx = Swap_df.loc['9Y'][Swap_df.loc['9Y'].isna()].index # find the missing value\n",
    "\n",
    "NaN_idx"
   ]
  },
  {
   "cell_type": "code",
   "execution_count": 15,
   "id": "57353222-cfe7-4c93-9835-ffa314b81ebe",
   "metadata": {},
   "outputs": [],
   "source": [
    "Swap_df.loc['9Y', NaN_idx] = (Swap_df.loc['8Y', NaN_idx] + Swap_df.loc['10Y', NaN_idx])/2"
   ]
  },
  {
   "cell_type": "code",
   "execution_count": 16,
   "id": "52884b6c-094a-4204-82b8-e50e652fdaf5",
   "metadata": {},
   "outputs": [
    {
     "data": {
      "text/plain": [
       "Tenor\n",
       "1Y     0\n",
       "2Y     0\n",
       "3Y     0\n",
       "4Y     0\n",
       "5Y     0\n",
       "6Y     0\n",
       "7Y     0\n",
       "8Y     0\n",
       "9Y     0\n",
       "10Y    0\n",
       "dtype: int64"
      ]
     },
     "execution_count": 16,
     "metadata": {},
     "output_type": "execute_result"
    }
   ],
   "source": [
    "Swap_df.T.isna().sum()"
   ]
  },
  {
   "cell_type": "markdown",
   "id": "d8d7431d-d430-4bfe-bcc0-5d25809252ca",
   "metadata": {},
   "source": [
    "#### 1.1.1. Swap Valuation"
   ]
  },
  {
   "cell_type": "markdown",
   "id": "04f2c7ce-1b36-4026-af6a-e0b788696118",
   "metadata": {},
   "source": [
    "1. First we calculate the **Discount factors** assuming continuously compounding\n",
    "$$\n",
    "\\\n",
    "D(i, T) = e^{-r \\times T}\n",
    "\\\n",
    "$$\n",
    "\n",
    "where \\(r\\) is the continuously compounded rate.\n",
    "\n",
    "- E.g. For 2021-01-31, with $r = 0.0390231$, then\n",
    "  $\\\n",
    "  D(\\text{2021-01-31}, 1M) = e^{-0.0390231 \\times 0.083333} \\approx 0.996778.\n",
    "  \\$\n",
    "- Thus on any given valuation day, we calculate the discount factor for each relevant tenor.\n",
    "\n",
    "---\n",
    "\n",
    "2. We can then calculate the **PV of the floating leg** of the swap by using a closed form approximation:\n",
    "$$\\\n",
    "\\text{PV}_{\\text{float}, i} = 1 - D(i, T_{\\max})\n",
    "\\\n",
    "$$\n",
    "(i.e. 1 minus the discount factor corresponding to the highest tenor)\n",
    "\n",
    "- E.g. $$\n",
    "\\\n",
    "1 - D(i, 40\\text{Y})\n",
    "\\\n",
    "$$\n",
    "\n",
    "---\n",
    "\n",
    "3. **Calculate the PV of the fixed leg**:  \n",
    "It is essentially the product of the discount factors vector with the strike.\n",
    "\n",
    "For each given day \\(i\\):\n",
    "\n",
    "$$\n",
    "\\text{PV}_{\\text{fixed}, i} \n",
    "= \\text{Strike} \\times \\sum D\\bigl(i, T\\bigr)\n",
    "$$\n",
    "\n",
    "---\n",
    "\n",
    "4. Calculate the **PV of the payer swap** by netting the PV of the two legs. It is effectively the NPV of the swap payer, so for each given day i, we take difference between the PV of the cash inflow (the floating leg) and the PV of the cash outflow (the fixed leg).\n",
    "$$\n",
    "\\text{PV}_{\\text{payer swap}, i} = \\text{PV}_{\\text{float}, i} - \\text{PV}_{\\text{fixed}, i}\n",
    "\\\n",
    "$$"
   ]
  },
  {
   "cell_type": "code",
   "execution_count": 19,
   "id": "e65e4b62-8e67-41ad-bc16-24fc2376b272",
   "metadata": {},
   "outputs": [],
   "source": [
    "def Swap_Valuation_payer(Swap_df, Tenor_col = 'T', swap_rate = 0.042, notional = 1e8, \n",
    "                         valuation_date = '2022-10-31'):\n",
    "    \"\"\"\n",
    "    Function to value the Swap payer for a given period. Parameters are set dynamically.\n",
    "\n",
    "    Inputs:\n",
    "    - Swap_df (DataFrame): DataFrame with relevant tenors (in years) and the SOFR to value the swap\n",
    "    - swap_rate (float): the par swap rate / the strike\n",
    "    - notional (float): the notional principal\n",
    "    - valuation_date (str): Column corresponds to the valuation date, containing SOFR for tenors.\n",
    "\n",
    "    Outputs:\n",
    "    - Swap_calc (DF): DataFrame of detail calculation for double check\n",
    "    - PV_Swap (float): value of the Swap payer\n",
    "    \"\"\"\n",
    "\n",
    "    Swap_calc = Swap_df.copy()\n",
    "    \n",
    "    # Extracting the column name Zero rates\n",
    "    val_date_idx = Swap_calc.columns.get_loc(valuation_date)\n",
    "    zero_col = Swap_calc.columns[val_date_idx]\n",
    "\n",
    "    # Sorting the data by Tenors\n",
    "    Swap_calc[Tenor_col] = pd.to_numeric(Swap_calc[Tenor_col], errors='coerce')\n",
    "    Swap_calc = Swap_calc.sort_values(by = Tenor_col)\n",
    "    \n",
    "    # Main calculation of swap values\n",
    "    Swap_calc[zero_col] = pd.to_numeric(Swap_calc[zero_col], errors='coerce') # ensure the zero col are also numeric\n",
    "    Swap_calc['Di'] = np.exp( -Swap_calc[Tenor_col] * Swap_calc[zero_col] )\n",
    "\n",
    "    # Calculate the PV of the legs\n",
    "    PV_float = 1 - Swap_calc['Di'].iloc[-1] # the iloc[-1] corresponds to the max tenor\n",
    "    PV_fixed = Swap_calc['Di'].sum() * swap_rate\n",
    "\n",
    "    # Calculate the PV of the Swap payers by netting the PV of the legs\n",
    "    PV_Swap = (PV_float - PV_fixed) * notional\n",
    "\n",
    "    Swap_calc = Swap_calc[[Tenor_col, zero_col, 'Di']]\n",
    "\n",
    "    return Swap_calc, PV_Swap"
   ]
  },
  {
   "cell_type": "code",
   "execution_count": 20,
   "id": "196871a2-ec6e-4975-9117-abca553b1319",
   "metadata": {},
   "outputs": [
    {
     "name": "stdout",
     "output_type": "stream",
     "text": [
      "The value of the payer swap on 2023-10-30 is $2442902.00\n",
      "We can double check by having a look at the selected data and the calculated Discount factors:\n",
      "          T  2023-10-30        Di\n",
      "Tenor                            \n",
      "1Y      1.0    0.052245  0.949097\n",
      "2Y      2.0    0.047904  0.908638\n",
      "3Y      3.0    0.045429  0.872591\n",
      "4Y      4.0    0.044345  0.837462\n",
      "5Y      5.0    0.043928  0.802808\n",
      "6Y      6.0    0.043794  0.768923\n",
      "7Y      7.0    0.043779  0.736051\n",
      "8Y      8.0    0.043828  0.704247\n",
      "9Y      9.0    0.043915  0.673524\n",
      "10Y    10.0    0.044023  0.643887\n"
     ]
    }
   ],
   "source": [
    "valuation_date = Swap_df.columns[-1] # baseline day\n",
    "\n",
    "Swap_calc, PV_Swap = Swap_Valuation_payer(Swap_df, valuation_date = valuation_date)\n",
    "\n",
    "print(f'The value of the payer swap on {valuation_date} is ${PV_Swap:.2f}')\n",
    "\n",
    "print('We can double check by having a look at the selected data and the calculated Discount factors:')\n",
    "print(Swap_calc)"
   ]
  },
  {
   "cell_type": "code",
   "execution_count": 21,
   "id": "f8e49019-9461-4b76-b949-b53898a831cf",
   "metadata": {},
   "outputs": [],
   "source": [
    "# This function is not really needed for this project, but it can be helpful for our future career\n",
    "# Following the swap valuation on a given day, we have a function to value the swap on all given days and plot the value overtime\n",
    "\n",
    "def Swap_Valuation_mult(Swap_df, Tenor_col = 'T', swap_rate = 0.042, notional = 1e8, plot = False):\n",
    "    \"\"\"\n",
    "    Value the swap on all given days and plot the value overtime; employing the predefined Swap_Valuation_payer for a given day.\n",
    "    \n",
    "    Inputs:\n",
    "    - Swap_df (DataFrame): DataFrame with relevant tenors (in years) and the SOFR to value the swap\n",
    "    - swap_rate (float): the par swap rate / the strike\n",
    "    - notional (float): Notional principal of the swap\n",
    "    \n",
    "    Outputs:\n",
    "    - PV_swap_df (DataFrame): A DataFrame with columns ['Date', 'PV_Swap'] for each valuation date.\n",
    "    \"\"\"\n",
    "    \n",
    "    # Assuming the first column is the tenor (in years) and the rest of the columns are valuation dates.\n",
    "    # We can make this more adaptive when needed by generating a list of the SOFR dates\n",
    "    valuation_dates = Swap_df.columns[1:]\n",
    "    PV_swap_all = []\n",
    "    \n",
    "    # Loop through each valuation date, compute swap value, and append the result.\n",
    "    # Employing our pre-defined function of swap payer valuation\n",
    "    for date in valuation_dates:\n",
    "        _, PV_Swap = Swap_Valuation_payer(Swap_df, Tenor_col = Tenor_col, swap_rate = swap_rate, \n",
    "                                          notional = notional, valuation_date = date)\n",
    "        PV_swap_all.append(PV_Swap)\n",
    "    \n",
    "    # Create a DataFrame for all the dates and corresponding swap values\n",
    "    Swap_calc_mult = pd.DataFrame({'Date': valuation_dates, 'V_Payer_Swap': PV_swap_all})\n",
    "    \n",
    "    # Convert Date column to datetime\n",
    "    Swap_calc_mult['Date'] = pd.to_datetime(Swap_calc_mult['Date'])\n",
    "\n",
    "    if plot:\n",
    "        plt.figure(figsize = (14,5))\n",
    "        plt.plot(Swap_calc_mult['Date'], Swap_calc_mult['V_Payer_Swap'])\n",
    "        plt.xlabel('Valuation Date')\n",
    "        plt.ylabel('Payer Swap Value')\n",
    "        plt.title('Payer Swap Value Over Time', color = 'darkblue')\n",
    "        plt.grid(True, alpha = 0.3)\n",
    "    \n",
    "    return Swap_calc_mult"
   ]
  },
  {
   "cell_type": "code",
   "execution_count": 22,
   "id": "a2c68ca7-e486-4d80-88eb-f529ad129042",
   "metadata": {},
   "outputs": [
    {
     "data": {
      "image/png": "[encoded data removed]",
      "text/plain": [
       "<Figure size 1400x500 with 1 Axes>"
      ]
     },
     "metadata": {},
     "output_type": "display_data"
    }
   ],
   "source": [
    "Swap_calc_mult = Swap_Valuation_mult(Swap_df, plot = True)"
   ]
  },
  {
   "cell_type": "code",
   "execution_count": 23,
   "id": "3f3501ac-0699-4f53-b577-f53e72303c45",
   "metadata": {},
   "outputs": [
    {
     "data": {
      "text/html": [
       "<div>\n",
       "<style scoped>\n",
       "    .dataframe tbody tr th:only-of-type {\n",
       "        vertical-align: middle;\n",
       "    }\n",
       "\n",
       "    .dataframe tbody tr th {\n",
       "        vertical-align: top;\n",
       "    }\n",
       "\n",
       "    .dataframe thead th {\n",
       "        text-align: right;\n",
       "    }\n",
       "</style>\n",
       "<table border=\"1\" class=\"dataframe\">\n",
       "  <thead>\n",
       "    <tr style=\"text-align: right;\">\n",
       "      <th></th>\n",
       "      <th>Date</th>\n",
       "      <th>V_Payer_Swap</th>\n",
       "    </tr>\n",
       "  </thead>\n",
       "  <tbody>\n",
       "    <tr>\n",
       "      <th>0</th>\n",
       "      <td>2022-10-31</td>\n",
       "      <td>-2.958503e+06</td>\n",
       "    </tr>\n",
       "    <tr>\n",
       "      <th>1</th>\n",
       "      <td>2022-11-01</td>\n",
       "      <td>-3.044883e+06</td>\n",
       "    </tr>\n",
       "    <tr>\n",
       "      <th>2</th>\n",
       "      <td>2022-11-02</td>\n",
       "      <td>-2.954226e+06</td>\n",
       "    </tr>\n",
       "    <tr>\n",
       "      <th>3</th>\n",
       "      <td>2022-11-03</td>\n",
       "      <td>-2.487463e+06</td>\n",
       "    </tr>\n",
       "    <tr>\n",
       "      <th>4</th>\n",
       "      <td>2022-11-04</td>\n",
       "      <td>-2.367458e+06</td>\n",
       "    </tr>\n",
       "    <tr>\n",
       "      <th>...</th>\n",
       "      <td>...</td>\n",
       "      <td>...</td>\n",
       "    </tr>\n",
       "    <tr>\n",
       "      <th>246</th>\n",
       "      <td>2023-10-24</td>\n",
       "      <td>2.338622e+06</td>\n",
       "    </tr>\n",
       "    <tr>\n",
       "      <th>247</th>\n",
       "      <td>2023-10-25</td>\n",
       "      <td>3.202746e+06</td>\n",
       "    </tr>\n",
       "    <tr>\n",
       "      <th>248</th>\n",
       "      <td>2023-10-26</td>\n",
       "      <td>2.367237e+06</td>\n",
       "    </tr>\n",
       "    <tr>\n",
       "      <th>249</th>\n",
       "      <td>2023-10-27</td>\n",
       "      <td>2.345707e+06</td>\n",
       "    </tr>\n",
       "    <tr>\n",
       "      <th>250</th>\n",
       "      <td>2023-10-30</td>\n",
       "      <td>2.442902e+06</td>\n",
       "    </tr>\n",
       "  </tbody>\n",
       "</table>\n",
       "<p>251 rows × 2 columns</p>\n",
       "</div>"
      ],
      "text/plain": [
       "          Date  V_Payer_Swap\n",
       "0   2022-10-31 -2.958503e+06\n",
       "1   2022-11-01 -3.044883e+06\n",
       "2   2022-11-02 -2.954226e+06\n",
       "3   2022-11-03 -2.487463e+06\n",
       "4   2022-11-04 -2.367458e+06\n",
       "..         ...           ...\n",
       "246 2023-10-24  2.338622e+06\n",
       "247 2023-10-25  3.202746e+06\n",
       "248 2023-10-26  2.367237e+06\n",
       "249 2023-10-27  2.345707e+06\n",
       "250 2023-10-30  2.442902e+06\n",
       "\n",
       "[251 rows x 2 columns]"
      ]
     },
     "execution_count": 23,
     "metadata": {},
     "output_type": "execute_result"
    }
   ],
   "source": [
    "Swap_calc_mult"
   ]
  },
  {
   "cell_type": "markdown",
   "id": "349c5942-7c21-4afd-9e1c-0ca88e56cab5",
   "metadata": {},
   "source": [
    "#### 1.2. Partial DV01 (PV01)"
   ]
  },
  {
   "cell_type": "markdown",
   "id": "f8c1dd93-eaf3-4185-b99f-5dbd4650b77e",
   "metadata": {},
   "source": [
    "* After calculating the swap value for each given day, we can perform sensitivity analysis.  \n",
    "* In particular, we estimate the DV01 for a 1-basis-point change in each tenor (**partial DV01 (PV01)**).  \n",
    "* This is useful because it helps us understand which tenors have the greatest impact on the swap’s value if the yield curve shifts.\n",
    "\n",
    "$$\n",
    "\\text{Partial DV01} \n",
    "= \\frac{\\text{PV}_{\\text{new payer swap}} - \\text{PV}_{\\text{baseline payer swap}}}{0.0001}\n",
    "$$\n",
    "\n",
    "**Steps**:\n",
    "1. Increase the SOFR rate of a tenor for all given days by 1 bps (those of the other tenors remain unchanged).  \n",
    "2. Recalculate $\\text{PV}_{\\text{payer swap}}$ to get $\\text{PV}_{\\text{new payer swap}}$.  \n",
    "3. Calculate $\\text{PV01}$ using the formula above.\n",
    "4. Append the results for all tenors to get a vector of PV01 values. These represent the sensitivities (or weightings) for each risk factor, which can then be used for portfolio-level evaluations."
   ]
  },
  {
   "cell_type": "code",
   "execution_count": 26,
   "id": "5c544ab0-8e65-46bf-9ca7-bcd53f441f1b",
   "metadata": {},
   "outputs": [],
   "source": [
    "def Swap_PV01_calc(Swap_df, Tenor_col = 'T', swap_rate = 0.042, notional = 1e8, \n",
    "                   valuation_date = '2023-10-30'):\n",
    "    \"\"\"\n",
    "    Calculate Partial DV01 (PV01) for each tenor by bumping the zero rate for that tenor by 1 bp.\n",
    "    \n",
    "    Inputs:\n",
    "    - Swap_df (DataFrame): DataFrame with tenors and SOFR data.\n",
    "    - swap_rate (float): the par swap rate / the strike.\n",
    "    - notional (float): the notional principal.\n",
    "    - valuation_date (str): the column corresponding to the valuation date containing SOFR.\n",
    "    \n",
    "    Outputs:\n",
    "    - PV01_df (DataFrame): A DataFrame with columns ['T', 'PV01'] containing the PV01 for each tenor.\n",
    "    \"\"\"\n",
    "\n",
    "    calc_df = Swap_df.copy()\n",
    "    \n",
    "    # Calculate the baseline swap payer value using Swap_Valuation_payer\n",
    "    _, PV_Swap_baseline = Swap_Valuation_payer(calc_df, Tenor_col = Tenor_col, swap_rate = swap_rate, \n",
    "                                               notional = notional, valuation_date = valuation_date)\n",
    "    \n",
    "    # Loop over each row in the DataFrame (each row corresponds to one tenor) to calculate PV01\n",
    "    PV01_list = []\n",
    "    tenors_list = []\n",
    "    \n",
    "    for idx, row in calc_df.iterrows():\n",
    "        df_bumped = calc_df.copy()\n",
    "        df_bumped.loc[idx, valuation_date] = df_bumped.loc[idx, valuation_date] + 1e-4 # bump 1 bps = 0.0001\n",
    "        \n",
    "        # Recalculate the swap value with the bumped rate\n",
    "        _, PV_Swap_bumped = Swap_Valuation_payer(df_bumped, Tenor_col = Tenor_col, swap_rate = swap_rate, \n",
    "                                                 notional = notional, valuation_date = valuation_date)\n",
    "        \n",
    "        # Calculate Partial DV01\n",
    "        PV01 = (PV_Swap_bumped - PV_Swap_baseline) / 1e-4\n",
    "        PV01_list.append(PV01)\n",
    "        tenors_list.append(row[Tenor_col])\n",
    "    \n",
    "    # Create a DataFrame\n",
    "    PV01_df = pd.DataFrame({'T': tenors_list, 'PV01': PV01_list})\n",
    "    \n",
    "    return PV01_df"
   ]
  },
  {
   "cell_type": "code",
   "execution_count": 27,
   "id": "b7d99088-c5df-4e2b-a79c-e67ef192a395",
   "metadata": {},
   "outputs": [
    {
     "data": {
      "text/html": [
       "<div>\n",
       "<style scoped>\n",
       "    .dataframe tbody tr th:only-of-type {\n",
       "        vertical-align: middle;\n",
       "    }\n",
       "\n",
       "    .dataframe tbody tr th {\n",
       "        vertical-align: top;\n",
       "    }\n",
       "\n",
       "    .dataframe thead th {\n",
       "        text-align: right;\n",
       "    }\n",
       "</style>\n",
       "<table border=\"1\" class=\"dataframe\">\n",
       "  <thead>\n",
       "    <tr style=\"text-align: right;\">\n",
       "      <th></th>\n",
       "      <th>T</th>\n",
       "      <th>PV01</th>\n",
       "    </tr>\n",
       "  </thead>\n",
       "  <tbody>\n",
       "    <tr>\n",
       "      <th>0</th>\n",
       "      <td>1.0</td>\n",
       "      <td>3.986007e+06</td>\n",
       "    </tr>\n",
       "    <tr>\n",
       "      <th>1</th>\n",
       "      <td>2.0</td>\n",
       "      <td>7.631797e+06</td>\n",
       "    </tr>\n",
       "    <tr>\n",
       "      <th>2</th>\n",
       "      <td>3.0</td>\n",
       "      <td>1.099300e+07</td>\n",
       "    </tr>\n",
       "    <tr>\n",
       "      <th>3</th>\n",
       "      <td>4.0</td>\n",
       "      <td>1.406655e+07</td>\n",
       "    </tr>\n",
       "    <tr>\n",
       "      <th>4</th>\n",
       "      <td>5.0</td>\n",
       "      <td>1.685475e+07</td>\n",
       "    </tr>\n",
       "    <tr>\n",
       "      <th>5</th>\n",
       "      <td>6.0</td>\n",
       "      <td>1.937106e+07</td>\n",
       "    </tr>\n",
       "    <tr>\n",
       "      <th>6</th>\n",
       "      <td>7.0</td>\n",
       "      <td>2.163234e+07</td>\n",
       "    </tr>\n",
       "    <tr>\n",
       "      <th>7</th>\n",
       "      <td>8.0</td>\n",
       "      <td>2.365323e+07</td>\n",
       "    </tr>\n",
       "    <tr>\n",
       "      <th>8</th>\n",
       "      <td>9.0</td>\n",
       "      <td>2.544777e+07</td>\n",
       "    </tr>\n",
       "    <tr>\n",
       "      <th>9</th>\n",
       "      <td>10.0</td>\n",
       "      <td>6.705953e+08</td>\n",
       "    </tr>\n",
       "  </tbody>\n",
       "</table>\n",
       "</div>"
      ],
      "text/plain": [
       "      T          PV01\n",
       "0   1.0  3.986007e+06\n",
       "1   2.0  7.631797e+06\n",
       "2   3.0  1.099300e+07\n",
       "3   4.0  1.406655e+07\n",
       "4   5.0  1.685475e+07\n",
       "5   6.0  1.937106e+07\n",
       "6   7.0  2.163234e+07\n",
       "7   8.0  2.365323e+07\n",
       "8   9.0  2.544777e+07\n",
       "9  10.0  6.705953e+08"
      ]
     },
     "execution_count": 27,
     "metadata": {},
     "output_type": "execute_result"
    }
   ],
   "source": [
    "PV01_df = Swap_PV01_calc(Swap_df, valuation_date = valuation_date)\n",
    "PV01_df"
   ]
  },
  {
   "cell_type": "markdown",
   "id": "e13806a3-9c3a-44a6-9357-ce917ea419dc",
   "metadata": {},
   "source": [
    "### 1.2. EQUITY PREPARATION"
   ]
  },
  {
   "cell_type": "markdown",
   "id": "1fec87c4-e01e-4f87-ac51-318ea970d159",
   "metadata": {},
   "source": [
    "To evaluate the sensitivity of the portfolio to the daily changes of the stocks, we calculate \n",
    "the mean daily return of each stock over the period, then multiply by the value of the positions.\n",
    "\n",
    "$$\n",
    "\\Delta \\text{Equity} \n",
    "= \\sum_{i=1}^{4} \\bigl(R_i \\times w_i\\bigr)\n",
    "$$\n",
    "\n",
    "where $R_i$ is the daily mean return of stock $i$, and $w_i$ is \\$1 million \n",
    "for each stock in this project."
   ]
  },
  {
   "cell_type": "code",
   "execution_count": 30,
   "id": "f1d2e543-654f-472e-9983-ea0aa3252926",
   "metadata": {},
   "outputs": [
    {
     "data": {
      "text/html": [
       "<div>\n",
       "<style scoped>\n",
       "    .dataframe tbody tr th:only-of-type {\n",
       "        vertical-align: middle;\n",
       "    }\n",
       "\n",
       "    .dataframe tbody tr th {\n",
       "        vertical-align: top;\n",
       "    }\n",
       "\n",
       "    .dataframe thead th {\n",
       "        text-align: right;\n",
       "    }\n",
       "</style>\n",
       "<table border=\"1\" class=\"dataframe\">\n",
       "  <thead>\n",
       "    <tr style=\"text-align: right;\">\n",
       "      <th></th>\n",
       "      <th>AAPL</th>\n",
       "      <th>MSFT</th>\n",
       "      <th>F</th>\n",
       "      <th>BAC</th>\n",
       "    </tr>\n",
       "    <tr>\n",
       "      <th>Date</th>\n",
       "      <th></th>\n",
       "      <th></th>\n",
       "      <th></th>\n",
       "      <th></th>\n",
       "    </tr>\n",
       "  </thead>\n",
       "  <tbody>\n",
       "    <tr>\n",
       "      <th>2022-11-01</th>\n",
       "      <td>-0.017543</td>\n",
       "      <td>-0.017059</td>\n",
       "      <td>0.002244</td>\n",
       "      <td>0.004439</td>\n",
       "    </tr>\n",
       "    <tr>\n",
       "      <th>2022-11-02</th>\n",
       "      <td>-0.037305</td>\n",
       "      <td>-0.035368</td>\n",
       "      <td>-0.025373</td>\n",
       "      <td>-0.003039</td>\n",
       "    </tr>\n",
       "    <tr>\n",
       "      <th>2022-11-03</th>\n",
       "      <td>-0.042405</td>\n",
       "      <td>-0.026579</td>\n",
       "      <td>0.015314</td>\n",
       "      <td>-0.005542</td>\n",
       "    </tr>\n",
       "    <tr>\n",
       "      <th>2022-11-04</th>\n",
       "      <td>-0.001947</td>\n",
       "      <td>0.033326</td>\n",
       "      <td>0.018854</td>\n",
       "      <td>0.025077</td>\n",
       "    </tr>\n",
       "    <tr>\n",
       "      <th>2022-11-07</th>\n",
       "      <td>0.003902</td>\n",
       "      <td>0.029270</td>\n",
       "      <td>0.014064</td>\n",
       "      <td>0.005980</td>\n",
       "    </tr>\n",
       "    <tr>\n",
       "      <th>...</th>\n",
       "      <td>...</td>\n",
       "      <td>...</td>\n",
       "      <td>...</td>\n",
       "      <td>...</td>\n",
       "    </tr>\n",
       "    <tr>\n",
       "      <th>2023-10-24</th>\n",
       "      <td>0.002543</td>\n",
       "      <td>0.003674</td>\n",
       "      <td>-0.007840</td>\n",
       "      <td>-0.003911</td>\n",
       "    </tr>\n",
       "    <tr>\n",
       "      <th>2023-10-25</th>\n",
       "      <td>-0.013492</td>\n",
       "      <td>0.030678</td>\n",
       "      <td>0.013169</td>\n",
       "      <td>0.003141</td>\n",
       "    </tr>\n",
       "    <tr>\n",
       "      <th>2023-10-26</th>\n",
       "      <td>-0.024606</td>\n",
       "      <td>-0.037514</td>\n",
       "      <td>-0.016464</td>\n",
       "      <td>0.022309</td>\n",
       "    </tr>\n",
       "    <tr>\n",
       "      <th>2023-10-27</th>\n",
       "      <td>0.007969</td>\n",
       "      <td>0.005856</td>\n",
       "      <td>-0.122467</td>\n",
       "      <td>-0.036371</td>\n",
       "    </tr>\n",
       "    <tr>\n",
       "      <th>2023-10-30</th>\n",
       "      <td>0.012305</td>\n",
       "      <td>0.022740</td>\n",
       "      <td>-0.019076</td>\n",
       "      <td>0.020660</td>\n",
       "    </tr>\n",
       "  </tbody>\n",
       "</table>\n",
       "<p>250 rows × 4 columns</p>\n",
       "</div>"
      ],
      "text/plain": [
       "                AAPL      MSFT         F       BAC\n",
       "Date                                              \n",
       "2022-11-01 -0.017543 -0.017059  0.002244  0.004439\n",
       "2022-11-02 -0.037305 -0.035368 -0.025373 -0.003039\n",
       "2022-11-03 -0.042405 -0.026579  0.015314 -0.005542\n",
       "2022-11-04 -0.001947  0.033326  0.018854  0.025077\n",
       "2022-11-07  0.003902  0.029270  0.014064  0.005980\n",
       "...              ...       ...       ...       ...\n",
       "2023-10-24  0.002543  0.003674 -0.007840 -0.003911\n",
       "2023-10-25 -0.013492  0.030678  0.013169  0.003141\n",
       "2023-10-26 -0.024606 -0.037514 -0.016464  0.022309\n",
       "2023-10-27  0.007969  0.005856 -0.122467 -0.036371\n",
       "2023-10-30  0.012305  0.022740 -0.019076  0.020660\n",
       "\n",
       "[250 rows x 4 columns]"
      ]
     },
     "execution_count": 30,
     "metadata": {},
     "output_type": "execute_result"
    }
   ],
   "source": [
    "AAPL_df = pd.read_excel('hist_data.xlsm', sheet_name = 'AAPL', index_col = 'Date')\n",
    "AAPL_df.columns = ['AAPL']\n",
    "\n",
    "MSFT_df = pd.read_excel('hist_data.xlsm', sheet_name = 'MSFT', index_col = 'Date')\n",
    "MSFT_df.columns = ['MSFT']\n",
    "\n",
    "F_df = pd.read_excel('hist_data.xlsm', sheet_name = 'F', index_col = 'Date')\n",
    "F_df.columns = ['F']\n",
    "\n",
    "BAC_df = pd.read_excel('hist_data.xlsm', sheet_name = 'BAC', index_col = 'Date')\n",
    "BAC_df.columns = ['BAC']\n",
    "\n",
    "stock_prices = pd.concat([AAPL_df, MSFT_df, F_df, BAC_df], axis = 1)\n",
    "stock_returns = stock_prices.pct_change().dropna()\n",
    "stock_returns"
   ]
  },
  {
   "cell_type": "markdown",
   "id": "ed3f30b4-ca09-471d-9d8c-66b234cfa9f0",
   "metadata": {},
   "source": [
    "### 1.3. PORTFOLIO PREPARATION"
   ]
  },
  {
   "cell_type": "markdown",
   "id": "3728c279-d484-4035-9b51-bc0935bba188",
   "metadata": {},
   "source": [
    "### 1.3.1. Weight Vector"
   ]
  },
  {
   "cell_type": "code",
   "execution_count": 33,
   "id": "6350f3d9-db8f-446c-a2f6-6664d3bde218",
   "metadata": {},
   "outputs": [
    {
     "data": {
      "text/plain": [
       "array([3.98600677e+06, 7.63179678e+06, 1.09930011e+07, 1.40665536e+07,\n",
       "       1.68547510e+07, 1.93710561e+07, 2.16323359e+07, 2.36532276e+07,\n",
       "       2.54477691e+07, 6.70595263e+08, 1.00000000e+06, 1.00000000e+06,\n",
       "       1.00000000e+06, 1.00000000e+06])"
      ]
     },
     "execution_count": 33,
     "metadata": {},
     "output_type": "execute_result"
    }
   ],
   "source": [
    "PV01_weights = PV01_df['PV01'].to_numpy()\n",
    "\n",
    "stock_weights = np.full(4, 1e6)\n",
    "\n",
    "risk_factor_weights = np.concatenate((PV01_weights, stock_weights))\n",
    "risk_factor_weights\n",
    "# OK so this is the WEIGHT VECTOR of the risk factors for later use"
   ]
  },
  {
   "cell_type": "markdown",
   "id": "c1a70b8b-fe33-4ad3-8aad-55127f416e7f",
   "metadata": {},
   "source": [
    "### 1.3.2. Portfolio mean and variance"
   ]
  },
  {
   "cell_type": "code",
   "execution_count": 35,
   "id": "fcadfef1-aa24-4cb6-a114-a32c7fe90159",
   "metadata": {},
   "outputs": [],
   "source": [
    "SOFR_d = Swap_df.T.iloc[1:].diff().dropna()\n",
    "SOFR_d.columns.name = None\n",
    "SOFR_d.index.name = 'Date'\n",
    "SOFR_d.index = pd.to_datetime(SOFR_d.index)"
   ]
  },
  {
   "cell_type": "code",
   "execution_count": 36,
   "id": "a25b1f18-9918-4dde-86fa-a3116829e88c",
   "metadata": {},
   "outputs": [],
   "source": [
    "# SOFR_d.isna().sum()\n",
    "# stock_returns.isna().sum()"
   ]
  },
  {
   "cell_type": "code",
   "execution_count": 37,
   "id": "4977fcc5-a7cc-4794-800c-f756e65d19db",
   "metadata": {},
   "outputs": [],
   "source": [
    "# SOFR_d.index.difference(stock_returns.index)\n",
    "# check mis-aligned index and we find that the SOFR have 2 extra daily data"
   ]
  },
  {
   "cell_type": "code",
   "execution_count": 38,
   "id": "48ca0c28-d1ea-40fa-bc12-baad8a6380a9",
   "metadata": {},
   "outputs": [
    {
     "data": {
      "text/html": [
       "<div>\n",
       "<style scoped>\n",
       "    .dataframe tbody tr th:only-of-type {\n",
       "        vertical-align: middle;\n",
       "    }\n",
       "\n",
       "    .dataframe tbody tr th {\n",
       "        vertical-align: top;\n",
       "    }\n",
       "\n",
       "    .dataframe thead th {\n",
       "        text-align: right;\n",
       "    }\n",
       "</style>\n",
       "<table border=\"1\" class=\"dataframe\">\n",
       "  <thead>\n",
       "    <tr style=\"text-align: right;\">\n",
       "      <th></th>\n",
       "      <th>1Y</th>\n",
       "      <th>2Y</th>\n",
       "      <th>3Y</th>\n",
       "      <th>4Y</th>\n",
       "      <th>5Y</th>\n",
       "      <th>6Y</th>\n",
       "      <th>7Y</th>\n",
       "      <th>8Y</th>\n",
       "      <th>9Y</th>\n",
       "      <th>10Y</th>\n",
       "      <th>AAPL</th>\n",
       "      <th>MSFT</th>\n",
       "      <th>F</th>\n",
       "      <th>BAC</th>\n",
       "    </tr>\n",
       "    <tr>\n",
       "      <th>Date</th>\n",
       "      <th></th>\n",
       "      <th></th>\n",
       "      <th></th>\n",
       "      <th></th>\n",
       "      <th></th>\n",
       "      <th></th>\n",
       "      <th></th>\n",
       "      <th></th>\n",
       "      <th></th>\n",
       "      <th></th>\n",
       "      <th></th>\n",
       "      <th></th>\n",
       "      <th></th>\n",
       "      <th></th>\n",
       "    </tr>\n",
       "  </thead>\n",
       "  <tbody>\n",
       "    <tr>\n",
       "      <th>2022-11-01</th>\n",
       "      <td>0.000521</td>\n",
       "      <td>0.000439</td>\n",
       "      <td>0.000342</td>\n",
       "      <td>0.000296</td>\n",
       "      <td>0.000225</td>\n",
       "      <td>0.000124</td>\n",
       "      <td>0.000029</td>\n",
       "      <td>-0.000043</td>\n",
       "      <td>-0.000097</td>\n",
       "      <td>-0.000144</td>\n",
       "      <td>-0.017543</td>\n",
       "      <td>-0.017059</td>\n",
       "      <td>0.002244</td>\n",
       "      <td>0.004439</td>\n",
       "    </tr>\n",
       "    <tr>\n",
       "      <th>2022-11-02</th>\n",
       "      <td>0.000234</td>\n",
       "      <td>0.000474</td>\n",
       "      <td>0.000404</td>\n",
       "      <td>0.000254</td>\n",
       "      <td>0.000153</td>\n",
       "      <td>0.000118</td>\n",
       "      <td>0.000109</td>\n",
       "      <td>0.000099</td>\n",
       "      <td>0.000090</td>\n",
       "      <td>0.000091</td>\n",
       "      <td>-0.037305</td>\n",
       "      <td>-0.035368</td>\n",
       "      <td>-0.025373</td>\n",
       "      <td>-0.003039</td>\n",
       "    </tr>\n",
       "    <tr>\n",
       "      <th>2022-11-03</th>\n",
       "      <td>0.000690</td>\n",
       "      <td>0.001098</td>\n",
       "      <td>0.001085</td>\n",
       "      <td>0.000957</td>\n",
       "      <td>0.000832</td>\n",
       "      <td>0.000761</td>\n",
       "      <td>0.000704</td>\n",
       "      <td>0.000624</td>\n",
       "      <td>0.000545</td>\n",
       "      <td>0.000495</td>\n",
       "      <td>-0.042405</td>\n",
       "      <td>-0.026579</td>\n",
       "      <td>0.015314</td>\n",
       "      <td>-0.005542</td>\n",
       "    </tr>\n",
       "    <tr>\n",
       "      <th>2022-11-04</th>\n",
       "      <td>-0.000394</td>\n",
       "      <td>-0.000497</td>\n",
       "      <td>-0.000448</td>\n",
       "      <td>-0.000322</td>\n",
       "      <td>-0.000204</td>\n",
       "      <td>-0.000116</td>\n",
       "      <td>-0.000038</td>\n",
       "      <td>0.000045</td>\n",
       "      <td>0.000126</td>\n",
       "      <td>0.000192</td>\n",
       "      <td>-0.001947</td>\n",
       "      <td>0.033326</td>\n",
       "      <td>0.018854</td>\n",
       "      <td>0.025077</td>\n",
       "    </tr>\n",
       "    <tr>\n",
       "      <th>2022-11-07</th>\n",
       "      <td>0.000429</td>\n",
       "      <td>0.000536</td>\n",
       "      <td>0.000499</td>\n",
       "      <td>0.000413</td>\n",
       "      <td>0.000332</td>\n",
       "      <td>0.000313</td>\n",
       "      <td>0.000328</td>\n",
       "      <td>0.000342</td>\n",
       "      <td>0.000345</td>\n",
       "      <td>0.000339</td>\n",
       "      <td>0.003902</td>\n",
       "      <td>0.029270</td>\n",
       "      <td>0.014064</td>\n",
       "      <td>0.005980</td>\n",
       "    </tr>\n",
       "  </tbody>\n",
       "</table>\n",
       "</div>"
      ],
      "text/plain": [
       "                  1Y        2Y        3Y        4Y        5Y        6Y  \\\n",
       "Date                                                                     \n",
       "2022-11-01  0.000521  0.000439  0.000342  0.000296  0.000225  0.000124   \n",
       "2022-11-02  0.000234  0.000474  0.000404  0.000254  0.000153  0.000118   \n",
       "2022-11-03  0.000690  0.001098  0.001085  0.000957  0.000832  0.000761   \n",
       "2022-11-04 -0.000394 -0.000497 -0.000448 -0.000322 -0.000204 -0.000116   \n",
       "2022-11-07  0.000429  0.000536  0.000499  0.000413  0.000332  0.000313   \n",
       "\n",
       "                  7Y        8Y        9Y       10Y      AAPL      MSFT  \\\n",
       "Date                                                                     \n",
       "2022-11-01  0.000029 -0.000043 -0.000097 -0.000144 -0.017543 -0.017059   \n",
       "2022-11-02  0.000109  0.000099  0.000090  0.000091 -0.037305 -0.035368   \n",
       "2022-11-03  0.000704  0.000624  0.000545  0.000495 -0.042405 -0.026579   \n",
       "2022-11-04 -0.000038  0.000045  0.000126  0.000192 -0.001947  0.033326   \n",
       "2022-11-07  0.000328  0.000342  0.000345  0.000339  0.003902  0.029270   \n",
       "\n",
       "                   F       BAC  \n",
       "Date                            \n",
       "2022-11-01  0.002244  0.004439  \n",
       "2022-11-02 -0.025373 -0.003039  \n",
       "2022-11-03  0.015314 -0.005542  \n",
       "2022-11-04  0.018854  0.025077  \n",
       "2022-11-07  0.014064  0.005980  "
      ]
     },
     "execution_count": 38,
     "metadata": {},
     "output_type": "execute_result"
    }
   ],
   "source": [
    "# The data table of the changes in the risk factors\n",
    "P_rates_changes = pd.concat([SOFR_d, stock_returns], axis = 1)\n",
    "P_rates_changes.head()"
   ]
  },
  {
   "cell_type": "code",
   "execution_count": 39,
   "id": "6d1fd454-4efc-462a-bd7a-5e7f523447fe",
   "metadata": {},
   "outputs": [],
   "source": [
    "P_rates_changes.isna().sum()\n",
    "\n",
    "P_rates_changes = P_rates_changes.dropna()\n",
    "# remove NaN due to extra data in the SOFR, which is considered less biased then filling "
   ]
  },
  {
   "cell_type": "code",
   "execution_count": 40,
   "id": "1c794290-ae76-441c-83fd-bd6b09b38b7f",
   "metadata": {},
   "outputs": [
    {
     "data": {
      "text/plain": [
       "1Y      0.000018\n",
       "2Y      0.000007\n",
       "3Y      0.000007\n",
       "4Y      0.000012\n",
       "5Y      0.000015\n",
       "6Y      0.000017\n",
       "7Y      0.000020\n",
       "8Y      0.000021\n",
       "9Y      0.000023\n",
       "10Y     0.000024\n",
       "AAPL    0.000461\n",
       "MSFT    0.001606\n",
       "F      -0.000738\n",
       "BAC    -0.001181\n",
       "dtype: float64"
      ]
     },
     "execution_count": 40,
     "metadata": {},
     "output_type": "execute_result"
    }
   ],
   "source": [
    "# Mean rate changes\n",
    "P_rates_changes_mean = P_rates_changes.mean()\n",
    "P_rates_changes_mean"
   ]
  },
  {
   "cell_type": "code",
   "execution_count": 41,
   "id": "d4c0c720-d06a-448f-b823-6fc533a81af6",
   "metadata": {},
   "outputs": [
    {
     "data": {
      "text/plain": [
       "18485.85162743529"
      ]
     },
     "execution_count": 41,
     "metadata": {},
     "output_type": "execute_result"
    }
   ],
   "source": [
    "# Mean daily change of the portfolio value\n",
    "P_mean_changes = risk_factor_weights @ P_rates_changes_mean\n",
    "P_mean_changes"
   ]
  },
  {
   "cell_type": "code",
   "execution_count": 42,
   "id": "41ca4f0f-f33f-4d6a-a7ce-fad053fc44ee",
   "metadata": {},
   "outputs": [],
   "source": [
    "# Covar matrix\n",
    "P_covar = P_rates_changes.cov()"
   ]
  },
  {
   "cell_type": "code",
   "execution_count": 43,
   "id": "a68d7b8d-358f-4bbf-9544-fd095d570037",
   "metadata": {},
   "outputs": [],
   "source": [
    "# P_covar"
   ]
  },
  {
   "cell_type": "code",
   "execution_count": 44,
   "id": "b43e41db-6638-46f0-8fe9-bf5c71fac555",
   "metadata": {},
   "outputs": [],
   "source": [
    "# risk_factor_weights.shape\n",
    "# P_covar.shape"
   ]
  },
  {
   "cell_type": "code",
   "execution_count": 45,
   "id": "f3d59663-96e0-4aa5-9e68-22f94cc7d1f0",
   "metadata": {},
   "outputs": [
    {
     "data": {
      "text/plain": [
       "580820.6277486501"
      ]
     },
     "execution_count": 45,
     "metadata": {},
     "output_type": "execute_result"
    }
   ],
   "source": [
    "# Mean daily volatility of the portfolio value\n",
    "P_var = risk_factor_weights.T @ P_covar @ risk_factor_weights\n",
    "P_sd = np.sqrt(P_var)\n",
    "P_sd"
   ]
  },
  {
   "cell_type": "code",
   "execution_count": 46,
   "id": "7189c1e3-394f-49db-97cc-1efe245ab40d",
   "metadata": {},
   "outputs": [],
   "source": [
    "# P_var"
   ]
  },
  {
   "cell_type": "markdown",
   "id": "08cc417f-3e4a-4db2-b253-9e2f83c31a9c",
   "metadata": {},
   "source": [
    "## 2. PARAMETRIC VAR"
   ]
  },
  {
   "cell_type": "markdown",
   "id": "7b749cd7-4602-407b-822b-51783b4018d4",
   "metadata": {},
   "source": [
    "With the assumption of `normal distribution`, we can find the 95th percentile by using: \n",
    "\n",
    "$$\n",
    "\\text{Parametric VaR}_{95} = \\overline{\\Delta P} \\;+\\; z \\times \\sigma_P\n",
    "$$\n",
    "\n",
    "where \n",
    "- $\\overline{\\Delta P}$ is the expected change in the portfolio, \n",
    "- $z$ is the z-score corresponding to the 95% confidence level (approximately 1.645), \n",
    "- $ \\sigma_P$ is the standard deviation of the portfolio's returns."
   ]
  },
  {
   "cell_type": "code",
   "execution_count": 49,
   "id": "f762cb19-35c0-4dda-9626-f1e372c2ccf9",
   "metadata": {},
   "outputs": [
    {
     "data": {
      "text/plain": [
       "-1.644853626951472"
      ]
     },
     "execution_count": 49,
     "metadata": {},
     "output_type": "execute_result"
    }
   ],
   "source": [
    "# Confidence level and corresponding Z-score\n",
    "confidence_level = 0.95\n",
    "z = norm.ppf(1 - confidence_level)\n",
    "z"
   ]
  },
  {
   "cell_type": "code",
   "execution_count": 50,
   "id": "702e21b8-6c3b-4537-a3a1-89d9bb5931a3",
   "metadata": {},
   "outputs": [
    {
     "name": "stdout",
     "output_type": "stream",
     "text": [
      "Parametric VaR at 95.0% confidence level: $936,879.06\n"
     ]
    }
   ],
   "source": [
    "# Calculate Parametric VaR using the provided formula\n",
    "VaR_para = abs(P_mean_changes + z * P_sd)\n",
    "print(f\"Parametric VaR at {confidence_level * 100}% confidence level: ${VaR_para:,.2f}\")"
   ]
  },
  {
   "cell_type": "code",
   "execution_count": null,
   "id": "b51cb271-2598-4bf4-b21a-e45bcd3d0606",
   "metadata": {},
   "outputs": [],
   "source": []
  },
  {
   "cell_type": "markdown",
   "id": "c0390c45-1aca-4f61-9429-dc98ef80ac04",
   "metadata": {},
   "source": [
    "## 3. HISTORICAL VAR"
   ]
  },
  {
   "cell_type": "markdown",
   "id": "223d5ca9-cf17-4395-bea8-7de92334e283",
   "metadata": {},
   "source": [
    "**Risk-based approach**  \n",
    "- Essentially, we take the direct product of the weights with the daily changes and then determine the 95th percentile.  \n",
    "- This assumes a linear relationship between changes in risk factors and changes in portfolio value.\n",
    "\n",
    "---\n",
    "\n",
    "**Full revaluation approach**  \n",
    "- Instead of using a linear approximation for sensitivity and VaR, we fully re-calculate the swap position and the equity position. We then sum these values to get the new portfolio value.\n",
    "\n",
    "- The `historical VaR` relies on the assumption that history repeats. Hence, each of the historical data point is treated as a scenario under historical VaR analysis.\n",
    "\n",
    "- We generate a new set of SOFR scenarios by adding the historical daily changes to the current SOFR (last day of the given period).\n",
    "\n",
    "- Using these new SOFR values, we calculate the new swap values using our pre-defined functions.\n",
    "\n",
    "- For the equity position, given the intial value for each stock is $1M, we can calculate the new value as 1M x (1 + daily return).\n",
    "\n",
    "- Taking the sum of the new swaps and equity values gives us a vector of the new portfolio values under scenarios.\n",
    "\n",
    "- Subtract the new portfolio values from the baseline value gives us a vector of portfolio changes under scenarios. Then we find the 95th percentile of these values."
   ]
  },
  {
   "cell_type": "code",
   "execution_count": 53,
   "id": "b98be4fa-a15e-409d-8031-2c07c90392a6",
   "metadata": {},
   "outputs": [
    {
     "name": "stdout",
     "output_type": "stream",
     "text": [
      "NaN counts per column in P_rates_changes:\n",
      " 1Y      0\n",
      "2Y      0\n",
      "3Y      0\n",
      "4Y      0\n",
      "5Y      0\n",
      "6Y      0\n",
      "7Y      0\n",
      "8Y      0\n",
      "9Y      0\n",
      "10Y     0\n",
      "AAPL    0\n",
      "MSFT    0\n",
      "F       0\n",
      "BAC     0\n",
      "dtype: int64\n"
     ]
    }
   ],
   "source": [
    "# Identify NaN values in P_rates_changes\n",
    "nan_counts = P_rates_changes.isna().sum()\n",
    "print(\"NaN counts per column in P_rates_changes:\\n\", nan_counts)"
   ]
  },
  {
   "cell_type": "markdown",
   "id": "9c222987-ae4d-4402-9390-b146ec8f944c",
   "metadata": {},
   "source": [
    "### 3.1. Risk-based"
   ]
  },
  {
   "cell_type": "markdown",
   "id": "f3473cd0-4cd5-4a12-8cd1-386ac568a6a4",
   "metadata": {},
   "source": [
    "$$\n",
    "\\Delta P = w^T \\cdot \\Delta X\n",
    "$$\n",
    "\n",
    "$$\n",
    "\\text{VaR}_{\\alpha} = -\\text{Percentile}_{1-\\alpha}(\\Delta P)\n",
    "$$"
   ]
  },
  {
   "cell_type": "code",
   "execution_count": 56,
   "id": "8a1cece8-6c2b-4695-a4c3-60bf79f0e7e0",
   "metadata": {},
   "outputs": [
    {
     "data": {
      "text/plain": [
       "Date\n",
       "2022-11-01   -107647.228769\n",
       "2022-11-02    -15354.941103\n",
       "2022-11-03    382077.795049\n",
       "2022-11-04    187122.032162\n",
       "2022-11-07    333486.623931\n",
       "                  ...      \n",
       "2023-10-24      -999.474390\n",
       "2023-10-25    900308.581935\n",
       "2023-10-26   -894592.280498\n",
       "2023-10-27   -166544.013928\n",
       "2023-10-30    133727.175245\n",
       "Length: 248, dtype: float64"
      ]
     },
     "execution_count": 56,
     "metadata": {},
     "output_type": "execute_result"
    }
   ],
   "source": [
    "# Compute portfolio value daily changes using dot product\n",
    "portfolio_value_changes_risk_based = P_rates_changes @ risk_factor_weights\n",
    "portfolio_value_changes_risk_based # should give an output vector of daily changes"
   ]
  },
  {
   "cell_type": "code",
   "execution_count": 57,
   "id": "4ff7fb33-83d4-44f5-a6ab-6dc840e7b1f0",
   "metadata": {},
   "outputs": [
    {
     "data": {
      "text/plain": [
       "980180.0116969945"
      ]
     },
     "execution_count": 57,
     "metadata": {},
     "output_type": "execute_result"
    }
   ],
   "source": [
    "# Compute Historical VaR as the 5th percentile (negative of 95% percentile)\n",
    "historical_var_risk_based = -np.percentile(portfolio_value_changes_risk_based, 5)\n",
    "historical_var_risk_based"
   ]
  },
  {
   "cell_type": "markdown",
   "id": "b2dd5e99-f22b-4c29-b714-a911802113f8",
   "metadata": {},
   "source": [
    "### 3.2. Full revaluation"
   ]
  },
  {
   "cell_type": "markdown",
   "id": "8e8388e7-7b68-4a13-a2a6-fac44566b5ec",
   "metadata": {},
   "source": [
    "$$\n",
    "P_{\\text{new}} = \\text{New Swap Value} + \\text{New Equity Value}\n",
    "$$\n",
    "\n",
    "$$\n",
    "\\Delta P_{\\text{full reval.}} = P_{\\text{new}} - P_{\\text{baseline}}\n",
    "$$\n",
    "\n",
    "$$\n",
    "\\text{VaR}_{\\alpha} = -\\text{Percentile}_{1-\\alpha}(\\Delta P_{\\text{full reval.}})\n",
    "$$"
   ]
  },
  {
   "cell_type": "code",
   "execution_count": 60,
   "id": "f608e227-47d4-4663-85e5-5b281aac4fb5",
   "metadata": {},
   "outputs": [],
   "source": [
    "initial_SOFR = Swap_df.T.iloc[-1]\n",
    "initial_stock = stock_prices.iloc[-1]"
   ]
  },
  {
   "cell_type": "code",
   "execution_count": 61,
   "id": "0c14dfa1-edbb-441d-8575-96a58d378c4c",
   "metadata": {},
   "outputs": [],
   "source": [
    "# 1: Compute Baseline Portfolio Value\n",
    "\n",
    "# Baseline Payer Swap Value\n",
    "_, baseline_swap_value = Swap_Valuation_payer(Swap_df, valuation_date = valuation_date) # swap\n",
    "\n",
    "# Assume $1M in each stock, total equity position = $4M\n",
    "baseline_equity_value = 4e6\n",
    "\n",
    "# Compute total baseline portfolio value\n",
    "baseline_portfolio_value = baseline_swap_value + baseline_equity_value"
   ]
  },
  {
   "cell_type": "code",
   "execution_count": 62,
   "id": "90615a51-1aa6-414b-a543-329bb4db9843",
   "metadata": {},
   "outputs": [
    {
     "name": "stdout",
     "output_type": "stream",
     "text": [
      "6442901.999846325\n",
      "2442901.9998463253\n"
     ]
    }
   ],
   "source": [
    "print(baseline_portfolio_value)\n",
    "\n",
    "print(PV_Swap)"
   ]
  },
  {
   "cell_type": "code",
   "execution_count": 63,
   "id": "0a6fb7b1-cec9-416f-bdc9-8cd7aeeaaace",
   "metadata": {
    "scrolled": true
   },
   "outputs": [],
   "source": [
    "# 2: Revaluate swap with historical changes as scenarios\n",
    "new_swap_values = []\n",
    "\n",
    "# Let n_swap be the number of columns corresponding to swap (tenor) changes.\n",
    "n_tenors = len(PV01_weights)\n",
    "\n",
    "# Loop over each historical day (each row in P_rates_changes)\n",
    "for date, row in P_rates_changes.iterrows():\n",
    "\n",
    "    # Extract the one-day change for swaps (as a Series)\n",
    "    swap_daily_change = row.iloc[:n_tenors]\n",
    "\n",
    "    # Compute the new SOFR rates: baseline + one-day change\n",
    "    SOFR_revalued = initial_SOFR + swap_daily_change \n",
    "\n",
    "    # Copy the original swap DataFrame and update the rate columns\n",
    "    new_swap_df = Swap_df.copy()\n",
    "    new_swap_df.iloc[:, 1:] = SOFR_revalued.values.reshape(-1, 1)\n",
    "\n",
    "    # Revalue the swap portfolio using the updated rates\n",
    "    _, swap_value = Swap_Valuation_payer(new_swap_df, valuation_date = valuation_date)\n",
    "    new_swap_values.append(swap_value)\n",
    "\n",
    "# new_swap_values"
   ]
  },
  {
   "cell_type": "code",
   "execution_count": 64,
   "id": "d064b0e5-5898-495d-8b7a-d567ef51a257",
   "metadata": {},
   "outputs": [],
   "source": [
    "# 3: Revaluate the Equity position with historical changes as scenarios\n",
    "new_equity_values = []\n",
    "\n",
    "for date, row in P_rates_changes.iterrows():\n",
    "    \n",
    "    daily_stock_return = row.iloc[n_tenors:] # Extract the one-day stock returns (simple returns)\n",
    "    \n",
    "    # For each stock, the new value is: baseline (1e6) * (1 + daily_return)\n",
    "    new_stock_values = 1e6 * (1 + daily_stock_return)\n",
    "    \n",
    "    # Sum across all stocks to get the total new equity value for that day\n",
    "    new_equity_value = new_stock_values.sum()\n",
    "    new_equity_values.append(new_equity_value)\n",
    "\n",
    "# new_equity_values"
   ]
  },
  {
   "cell_type": "code",
   "execution_count": 65,
   "id": "6e9f3e95-1b78-419e-a191-987b797fa43a",
   "metadata": {},
   "outputs": [],
   "source": [
    "# 4: Compute New Portfolio Values (Swap + Equity) for each scenario (one-day revaluation)\n",
    "new_portfolio_values = np.array(new_swap_values) + np.array(new_equity_values)\n",
    "\n",
    "# this generate a vector of new portfolio values over time\n",
    "# new_portfolio_values"
   ]
  },
  {
   "cell_type": "code",
   "execution_count": 66,
   "id": "196bced0-58bd-482b-8c4f-2c02f1406377",
   "metadata": {},
   "outputs": [],
   "source": [
    "# 5: Compute one-day PnL for each scenario:\n",
    "# Difference between the revalued portfolio and the baseline portfolio value\n",
    "\n",
    "portfolio_value_changes_full_reval = new_portfolio_values - baseline_portfolio_value\n",
    "\n",
    "# portfolio_value_changes_full_reval"
   ]
  },
  {
   "cell_type": "code",
   "execution_count": 67,
   "id": "6edeca0d-2451-420f-a027-f99ead91a5d1",
   "metadata": {},
   "outputs": [],
   "source": [
    "# 6: Compute Historical VaR (Full Revaluation) as the 5th percentile\n",
    "\n",
    "historical_var_full_reval = -np.percentile(portfolio_value_changes_full_reval, 5)"
   ]
  },
  {
   "cell_type": "code",
   "execution_count": 68,
   "id": "3df8519f-2ec5-460f-9a14-250a48e1e268",
   "metadata": {},
   "outputs": [
    {
     "name": "stdout",
     "output_type": "stream",
     "text": [
      "1. Historical VaR Risk-Based Approach\n",
      "VaR (95% Confidence Level): $980,180.01\n",
      "\n",
      "2. Historical VaR Full Revaluation Approach\n",
      "VaR (95% Confidence Level): $986,112.37\n",
      "\n"
     ]
    }
   ],
   "source": [
    "print(\"1. Historical VaR Risk-Based Approach\")\n",
    "print(f\"VaR (95% Confidence Level): ${historical_var_risk_based:,.2f}\\n\")\n",
    "print(\"2. Historical VaR Full Revaluation Approach\")\n",
    "print(f\"VaR (95% Confidence Level): ${historical_var_full_reval:,.2f}\\n\")"
   ]
  },
  {
   "cell_type": "code",
   "execution_count": null,
   "id": "b5167098-f794-418c-9025-4367cfcd24a8",
   "metadata": {},
   "outputs": [],
   "source": []
  },
  {
   "cell_type": "markdown",
   "id": "2fb284f3-78c4-4a47-8e65-a84640f27c55",
   "metadata": {},
   "source": [
    "## 4. MONTE CARLO VAR"
   ]
  },
  {
   "cell_type": "markdown",
   "id": "3a793fc7-9bbd-4f8e-aa39-6b586623d2de",
   "metadata": {},
   "source": [
    "* The approach for risk-based and revaluation approach is similar to `historical VaR`. The only difference is that we now use the simulated set instead of the historical set"
   ]
  },
  {
   "cell_type": "code",
   "execution_count": 71,
   "id": "9e441661-ee34-4b87-b2a9-99e51a8fd81d",
   "metadata": {},
   "outputs": [],
   "source": [
    "#1 Setting seed\n",
    "np.random.seed(42)\n",
    "\n",
    "#2 Setting parameters\n",
    "num_simulations = 10000\n",
    "confidence_level = 0.95\n",
    "\n",
    "#3 inputs from data\n",
    "mu = P_rates_changes.mean().values #mean change in each risk factor\n",
    "cov_matrix = P_rates_changes.cov().values #covriances of the risk factor\n",
    "weights = risk_factor_weights #portfolio's sensitivity to each risk factor\n",
    "baseline_value = baseline_portfolio_value #current total value of our portfolio as starting reference\n",
    "\n",
    "#4 generating random shocks\n",
    "simulated_risk_changes = np.random.multivariate_normal(mu, cov_matrix, num_simulations)"
   ]
  },
  {
   "cell_type": "markdown",
   "id": "3b72bc9b-364d-4a93-9b6c-011a14af6298",
   "metadata": {},
   "source": [
    "### 4.1. Risk-based"
   ]
  },
  {
   "cell_type": "code",
   "execution_count": 73,
   "id": "2d530a4d-d6c1-4325-a2d4-664526f89c43",
   "metadata": {},
   "outputs": [
    {
     "name": "stdout",
     "output_type": "stream",
     "text": [
      "Monte Carlo Risk-Based VaR (95% confidence): $931,480.94\n"
     ]
    }
   ],
   "source": [
    "# Calculating portfolio's profit/loss under each simulated scenario using linear approximation\n",
    "portfolio_changes_risk_based = simulated_risk_changes @ weights\n",
    "\n",
    "#5th percentile of the profit/loss distribution is VaR\n",
    "mc_var_risk_based = -np.percentile(portfolio_changes_risk_based, (1 - confidence_level) * 100)\n",
    "\n",
    "print(f\"Monte Carlo Risk-Based VaR (95% confidence): ${mc_var_risk_based:,.2f}\")"
   ]
  },
  {
   "cell_type": "markdown",
   "id": "9fb2296c-898f-4909-bde6-82b1564b3d32",
   "metadata": {},
   "source": [
    "### 4.2. Full revaluation"
   ]
  },
  {
   "cell_type": "code",
   "execution_count": 75,
   "id": "2af3abd2-d8e0-4bef-b4aa-6627443c6125",
   "metadata": {},
   "outputs": [
    {
     "name": "stdout",
     "output_type": "stream",
     "text": [
      "Monte Carlo Full Revaluation VaR (95% confidence): $936,727.54\n"
     ]
    }
   ],
   "source": [
    "# Latest market rates for SOFR \n",
    "# and most recent equity price as the starting point\n",
    "latest_SOFR_rates = Swap_df.iloc[:, -1].copy()\n",
    "latest_equity_prices = stock_prices.iloc[-1].copy()\n",
    "# print(latest_SOFR_rates)\n",
    "\n",
    "new_portfolio_values = []\n",
    "\n",
    "#Run full revaluation loop; each loop is for one simulation\n",
    "for i in range(num_simulations):\n",
    "    simulated_factors = simulated_risk_changes[i]\n",
    "\n",
    "    # Apply first 10 shocks to SOFR rates\n",
    "    sofr_shocks = simulated_factors[:10]\n",
    "    new_SOFR_rates = latest_SOFR_rates + sofr_shocks\n",
    "\n",
    "    # Update Swap DataFrame safely \n",
    "    new_Swap_df = Swap_df.copy()\n",
    "    new_Swap_df.loc[new_SOFR_rates.index, Swap_df.columns[-1]] = new_SOFR_rates.values\n",
    "\n",
    "    # Revalue the interest rate swap using the simulated SOFR\n",
    "    _, new_swap_value = Swap_Valuation_payer(new_Swap_df, valuation_date = Swap_df.columns[-1])\n",
    "\n",
    "    # Apply last 4 shocks to equities as returns\n",
    "    equity_returns = simulated_factors[10:]\n",
    "    new_equity_prices = 1e6 * (1 + equity_returns)\n",
    "    # New value of equity portfolio\n",
    "    new_equity_value = new_equity_prices.sum()\n",
    "\n",
    "    # Total portfolio value\n",
    "    total_portfolio_value = new_swap_value + new_equity_value\n",
    "    new_portfolio_values.append(total_portfolio_value)\n",
    "\n",
    "# computing the portfolio P&L for each simulation/scenario \n",
    "#by subtracting the baseline value\n",
    "portfolio_changes_full_reval = np.array(new_portfolio_values) - baseline_value\n",
    "\n",
    "# 5th percentile of the PnL distribution is VaR\n",
    "mc_var_full_reval = abs(-np.percentile(portfolio_changes_full_reval, (1 - confidence_level) * 100))\n",
    "\n",
    "print(f\"Monte Carlo Full Revaluation VaR (95% confidence): ${mc_var_full_reval:,.2f}\")"
   ]
  },
  {
   "cell_type": "code",
   "execution_count": null,
   "id": "7a172da8-00bc-48ff-b6c6-c09c484b65f2",
   "metadata": {},
   "outputs": [],
   "source": []
  },
  {
   "cell_type": "markdown",
   "id": "51ba3b8f-2acf-4027-b9cd-bfef0567ff33",
   "metadata": {},
   "source": [
    "## 5. COMPARISONS OF APPROACHES"
   ]
  },
  {
   "cell_type": "code",
   "execution_count": 77,
   "id": "8dbbc1f7-a78c-447e-a1f2-d236fc8e907f",
   "metadata": {},
   "outputs": [
    {
     "data": {
      "text/html": [
       "<div>\n",
       "<style scoped>\n",
       "    .dataframe tbody tr th:only-of-type {\n",
       "        vertical-align: middle;\n",
       "    }\n",
       "\n",
       "    .dataframe tbody tr th {\n",
       "        vertical-align: top;\n",
       "    }\n",
       "\n",
       "    .dataframe thead th {\n",
       "        text-align: right;\n",
       "    }\n",
       "</style>\n",
       "<table border=\"1\" class=\"dataframe\">\n",
       "  <thead>\n",
       "    <tr style=\"text-align: right;\">\n",
       "      <th></th>\n",
       "      <th>Estimates</th>\n",
       "    </tr>\n",
       "  </thead>\n",
       "  <tbody>\n",
       "    <tr>\n",
       "      <th>Parametric VaR</th>\n",
       "      <td>936,879.06</td>\n",
       "    </tr>\n",
       "    <tr>\n",
       "      <th>Historical VaR_Risk based</th>\n",
       "      <td>980,180.01</td>\n",
       "    </tr>\n",
       "    <tr>\n",
       "      <th>Historical VaR_Full reval.</th>\n",
       "      <td>986,112.37</td>\n",
       "    </tr>\n",
       "    <tr>\n",
       "      <th>Monte Carlo VaR_Risk based</th>\n",
       "      <td>931,480.94</td>\n",
       "    </tr>\n",
       "    <tr>\n",
       "      <th>Monte Carlo VaR_Full reval.</th>\n",
       "      <td>936,727.54</td>\n",
       "    </tr>\n",
       "  </tbody>\n",
       "</table>\n",
       "</div>"
      ],
      "text/plain": [
       "                              Estimates\n",
       "Parametric VaR               936,879.06\n",
       "Historical VaR_Risk based    980,180.01\n",
       "Historical VaR_Full reval.   986,112.37\n",
       "Monte Carlo VaR_Risk based   931,480.94\n",
       "Monte Carlo VaR_Full reval.  936,727.54"
      ]
     },
     "execution_count": 77,
     "metadata": {},
     "output_type": "execute_result"
    }
   ],
   "source": [
    "VaR_df_all = pd.DataFrame({\n",
    "    \"Estimates\": [\n",
    "        VaR_para, \n",
    "        historical_var_risk_based, \n",
    "        historical_var_full_reval, \n",
    "        mc_var_risk_based, \n",
    "        mc_var_full_reval\n",
    "    ]\n",
    "}, index=[\n",
    "    \"Parametric VaR\", \n",
    "    \"Historical VaR_Risk based\", \n",
    "    \"Historical VaR_Full reval.\",\n",
    "    \"Monte Carlo VaR_Risk based\",\n",
    "    \"Monte Carlo VaR_Full reval.\"\n",
    "])\n",
    "\n",
    "VaR_df_all = VaR_df_all.round(2)\n",
    "VaR_df_all['Estimates'] = VaR_df_all['Estimates'].apply(lambda x: f\"{x:,.2f}\")\n",
    "\n",
    "VaR_df_all"
   ]
  },
  {
   "cell_type": "code",
   "execution_count": 78,
   "id": "876e7851-1c5b-476e-8197-ec425125fce3",
   "metadata": {},
   "outputs": [
    {
     "data": {
      "image/png": "[encoded data removed]",
      "text/plain": [
       "<Figure size 1200x500 with 1 Axes>"
      ]
     },
     "metadata": {},
     "output_type": "display_data"
    }
   ],
   "source": [
    "VaR_df_all['Estimates_numeric'] = VaR_df_all['Estimates'].str.replace(',', '').astype(float)\n",
    "\n",
    "VaR_df_all_2 = VaR_df_all.sort_values(by = 'Estimates_numeric')\n",
    "\n",
    "plt.figure(figsize=(12, 5))\n",
    "bars = plt.bar(range(len(VaR_df_all_2)), VaR_df_all_2.Estimates_numeric)\n",
    "plt.grid(alpha = 0.3)\n",
    "plt.title('Comparison of VaR approaches on the whole portfolio', fontsize = 14, color = 'darkblue')\n",
    "plt.xlabel('VaR approach', fontsize=12)\n",
    "plt.xticks(range(len(VaR_df_all_2)), VaR_df_all_2.index, rotation=45)\n",
    "plt.ylabel('VaR Estimates', fontsize = 12)\n",
    "\n",
    "# Annotate each bar with the formatted value\n",
    "for bar in bars:\n",
    "    height = bar.get_height()\n",
    "    plt.text(\n",
    "        bar.get_x() + bar.get_width() / 2, \n",
    "        height,                           \n",
    "        f'{height:,.2f}',\n",
    "        ha = 'center', \n",
    "        va = 'bottom')"
   ]
  },
  {
   "cell_type": "markdown",
   "id": "5d2a2721-7485-448c-8e46-e789dbf7bf3b",
   "metadata": {},
   "source": [
    "#### <b>Brief discussion:</b>\n",
    "\n",
    "1.&nbsp;&nbsp;<b style=\"color: blue;\">Parametric VaR</b>:  \n",
    "- Uses analytical formulas and the variance-covariance matrix assuming normally distributed returns.\n",
    "\n",
    "**Advantages:**\n",
    "- Fast as it relies on analytical formulas.\n",
    "- Easy implementation.\n",
    "\n",
    "**Limitations:**\n",
    "- The assumption about normally distributed returns is not always true in financial markets\n",
    "- This methodology may underestimate extreme risk in volatile/crisis periods as the return distributions have fatter tails in reality. \n",
    "\n",
    "  \n",
    "<br>\n",
    "\n",
    "2.&nbsp;&nbsp;<b style=\"color: green;\">Monte Carlo VaR</b>:  \n",
    "- Yield least conservative results ($918,459.82$ and $923,297.71$).\n",
    "- Simulates a large number of potential outcomes for portfolio returns by sampling from a statistical model.  \n",
    "\n",
    "**Advantages:**\n",
    " - This is a flexible model as it can model non-normal distributions and fat tails.\n",
    " - It can incorporate stress testing by changing the distribution of returns.\n",
    "\n",
    "**Limitations:**\n",
    "- It is computationally intensive as it requires more processing for bigger portfolios.\n",
    "- The accuracy of results depends on the assume distribution and correlations. \n",
    "\n",
    "<br>\n",
    "\n",
    "3.&nbsp;&nbsp;<b style=\"color: red;\">Historical VaR</b>:  \n",
    "- Yield most conservative results (highest VaRs of $980,180.01$ and $986,112.37$).\n",
    "- Uses actual historical returns to form an empirical loss distribution.  \n",
    "\n",
    "\n",
    "**Advantages:**\n",
    "- Since it uses real market data, there is no assumptions about the distribution of returns required.\n",
    "- It is also able to capture extreme risks if the historical data has data on crisis events.\n",
    "- It is easy to implement.\n",
    "\n",
    "**Limitations:**\n",
    "- It is backward looking as it assumes history repeats itself.\n",
    "- The accuracy of the results depends on the quality of the data."
   ]
  },
  {
   "cell_type": "code",
   "execution_count": null,
   "id": "8c3d4f89-f341-4ec5-b071-d15ae3a34822",
   "metadata": {},
   "outputs": [],
   "source": []
  },
  {
   "cell_type": "markdown",
   "id": "76f64be4-9b5a-4e52-a624-f5c93f9e73d9",
   "metadata": {},
   "source": [
    "## 6. FURTHER IMPROVEMENTS"
   ]
  },
  {
   "cell_type": "markdown",
   "id": "47a3ba29-c01c-43ac-9c98-1424a043c58f",
   "metadata": {},
   "source": [
    "### 6.1. Check Normality for the validity of Parametric VaR"
   ]
  },
  {
   "cell_type": "markdown",
   "id": "8a9e803e-3356-43d1-a4cc-7d7ce98a070d",
   "metadata": {},
   "source": [
    "* Can use some Normality test such as JB, or calculate the skewness and kurtosis of the portfolio data.\n",
    "* So we can confirm the validity of Parametetric VaR using the assumption of normal distribution. Otherwise, we need to do adjustments."
   ]
  },
  {
   "cell_type": "markdown",
   "id": "f6bcf9b9-d73e-4790-85d6-ebd5b5521942",
   "metadata": {},
   "source": [
    "### 6.2. Combine functions of VaRs"
   ]
  },
  {
   "cell_type": "markdown",
   "id": "21aee076-9260-40ca-a51f-77990618edfe",
   "metadata": {},
   "source": [
    "* In this project, we allocate the tasks to the members.\n",
    "* In practice, we can define a general function to estimate VaR with dynamic parameters of the VaR types, so that the function can provides all the VaR estimate simultaneously given the input data set."
   ]
  },
  {
   "cell_type": "code",
   "execution_count": null,
   "id": "7b5a7594-2edd-428b-902f-ca97e93a0a4b",
   "metadata": {},
   "outputs": [],
   "source": []
  }
 ],
 "metadata": {
  "kernelspec": {
   "display_name": "Python 3 (ipykernel)",
   "language": "python",
   "name": "python3"
  },
  "language_info": {
   "codemirror_mode": {
    "name": "ipython",
    "version": 3
   },
   "file_extension": ".py",
   "mimetype": "text/x-python",
   "name": "python",
   "nbconvert_exporter": "python",
   "pygments_lexer": "ipython3",
   "version": "3.12.4"
  }
 },
 "nbformat": 4,
 "nbformat_minor": 5
}
