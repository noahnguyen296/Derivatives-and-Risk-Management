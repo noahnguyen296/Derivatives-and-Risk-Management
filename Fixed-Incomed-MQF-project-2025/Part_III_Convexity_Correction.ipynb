{
  "nbformat": 4,
  "nbformat_minor": 0,
  "metadata": {
    "colab": {
      "provenance": []
    },
    "kernelspec": {
      "name": "python3",
      "display_name": "Python 3"
    },
    "language_info": {
      "name": "python"
    }
  },
  "cells": [
    {
      "cell_type": "markdown",
      "source": [
        "<font size=\"+3\">Part III - Convexity Correction</font>\n",
        "\n",
        "| Name             | Student ID |\n",
        "|------------------|------------|\n",
        "| Hong Yang | [01502068]  |\n",
        "| Myat   | [01520414]|"
      ],
      "metadata": {
        "id": "ODvigAgU_-de"
      }
    },
    {
      "cell_type": "markdown",
      "source": [
        ">[Data Preparation](#scrollTo=pfrscO0jAa5P)\n",
        "\n",
        ">[Models](#scrollTo=APlVJ0DHAgCx)\n",
        "\n",
        ">>[SABR](#scrollTo=Gm8ZwIxDBrKz)\n",
        "\n",
        ">>[Forward Swap Rate](#scrollTo=L3OnOPWdB4Up)\n",
        "\n",
        ">>[CMS Convexity Adjustment](#scrollTo=-LE8J4q_B-nN)\n",
        "\n",
        ">>[Black76](#scrollTo=GCUw6V44BwZ-)\n",
        "\n",
        ">>[CMS Rate via Static Replication (Carr-Madan Formula)](#scrollTo=q4IMMdhzgPz1)\n",
        "\n",
        ">>>[General Formula for CMS Leg PV:](#scrollTo=OChQ4UsJAqoD)\n",
        "\n",
        ">[Question 1:](#scrollTo=plzcMeAZTohO)\n",
        "\n",
        ">>>[Calculate PV of](#scrollTo=plzcMeAZTohO)\n",
        "\n",
        ">[Question 2:](#scrollTo=I5E_v7OPN7Bg)\n",
        "\n",
        ">>>[Compare the forward swap rates with the CMS rate](#scrollTo=I5E_v7OPN7Bg)\n",
        "\n"
      ],
      "metadata": {
        "colab_type": "toc",
        "id": "Q81xvD-OBiFy"
      }
    },
    {
      "cell_type": "code",
      "execution_count": null,
      "metadata": {
        "id": "VkLY14ipFHeq"
      },
      "outputs": [],
      "source": [
        "import pandas as pd\n",
        "import numpy as np\n",
        "import matplotlib.pyplot as plt\n",
        "from math import exp, log, sqrt\n",
        "from scipy.integrate import quad\n",
        "from scipy.interpolate import RectBivariateSpline\n",
        "from scipy.stats import norm\n",
        "import warnings\n",
        "warnings.filterwarnings(\"ignore\")"
      ]
    },
    {
      "cell_type": "code",
      "source": [
        "# from google.colab import drive\n",
        "# drive.mount('/content/drive')\n",
        "# !ls /content/drive/MyDrive"
      ],
      "metadata": {
        "id": "LOEFrh0WCO3F"
      },
      "execution_count": null,
      "outputs": []
    },
    {
      "cell_type": "markdown",
      "source": [
        "# Data Preparation"
      ],
      "metadata": {
        "id": "pfrscO0jAa5P"
      }
    },
    {
      "cell_type": "code",
      "source": [
        "# Load discount factors and retain needed columns\n",
        "disc_df = pd.read_csv('Discount_Factor.csv')\n",
        "disc_df = disc_df[[\"Tenor\", \"OIS Discount Factor\", \"LIBOR Discount Factor\"]].copy()\n",
        "disc_df"
      ],
      "metadata": {
        "id": "sbZ3WxZpTkt6",
        "colab": {
          "base_uri": "https://localhost:8080/",
          "height": 454
        },
        "outputId": "fe88dd18-c147-42a3-afe8-ec8afab458f2"
      },
      "execution_count": null,
      "outputs": [
        {
          "output_type": "error",
          "ename": "FileNotFoundError",
          "evalue": "[Errno 2] No such file or directory: 'discount_Factor.csv'",
          "traceback": [
            "\u001b[0;31m---------------------------------------------------------------------------\u001b[0m",
            "\u001b[0;31mFileNotFoundError\u001b[0m                         Traceback (most recent call last)",
            "\u001b[0;32m<ipython-input-5-5a01c0e38108>\u001b[0m in \u001b[0;36m<cell line: 0>\u001b[0;34m()\u001b[0m\n\u001b[1;32m      1\u001b[0m \u001b[0;31m# Load discount factors and retain needed columns\u001b[0m\u001b[0;34m\u001b[0m\u001b[0;34m\u001b[0m\u001b[0m\n\u001b[0;32m----> 2\u001b[0;31m \u001b[0mdisc_df\u001b[0m \u001b[0;34m=\u001b[0m \u001b[0mpd\u001b[0m\u001b[0;34m.\u001b[0m\u001b[0mread_csv\u001b[0m\u001b[0;34m(\u001b[0m\u001b[0;34m'discount_Factor.csv'\u001b[0m\u001b[0;34m)\u001b[0m\u001b[0;34m\u001b[0m\u001b[0;34m\u001b[0m\u001b[0m\n\u001b[0m\u001b[1;32m      3\u001b[0m \u001b[0mdisc_df\u001b[0m \u001b[0;34m=\u001b[0m \u001b[0mdisc_df\u001b[0m\u001b[0;34m[\u001b[0m\u001b[0;34m[\u001b[0m\u001b[0;34m\"Tenor\"\u001b[0m\u001b[0;34m,\u001b[0m \u001b[0;34m\"OIS Discount Factor\"\u001b[0m\u001b[0;34m,\u001b[0m \u001b[0;34m\"LIBOR Discount Factor\"\u001b[0m\u001b[0;34m]\u001b[0m\u001b[0;34m]\u001b[0m\u001b[0;34m.\u001b[0m\u001b[0mcopy\u001b[0m\u001b[0;34m(\u001b[0m\u001b[0;34m)\u001b[0m\u001b[0;34m\u001b[0m\u001b[0;34m\u001b[0m\u001b[0m\n\u001b[1;32m      4\u001b[0m \u001b[0mdisc_df\u001b[0m\u001b[0;34m\u001b[0m\u001b[0;34m\u001b[0m\u001b[0m\n",
            "\u001b[0;32m/usr/local/lib/python3.11/dist-packages/pandas/io/parsers/readers.py\u001b[0m in \u001b[0;36mread_csv\u001b[0;34m(filepath_or_buffer, sep, delimiter, header, names, index_col, usecols, dtype, engine, converters, true_values, false_values, skipinitialspace, skiprows, skipfooter, nrows, na_values, keep_default_na, na_filter, verbose, skip_blank_lines, parse_dates, infer_datetime_format, keep_date_col, date_parser, date_format, dayfirst, cache_dates, iterator, chunksize, compression, thousands, decimal, lineterminator, quotechar, quoting, doublequote, escapechar, comment, encoding, encoding_errors, dialect, on_bad_lines, delim_whitespace, low_memory, memory_map, float_precision, storage_options, dtype_backend)\u001b[0m\n\u001b[1;32m   1024\u001b[0m     \u001b[0mkwds\u001b[0m\u001b[0;34m.\u001b[0m\u001b[0mupdate\u001b[0m\u001b[0;34m(\u001b[0m\u001b[0mkwds_defaults\u001b[0m\u001b[0;34m)\u001b[0m\u001b[0;34m\u001b[0m\u001b[0;34m\u001b[0m\u001b[0m\n\u001b[1;32m   1025\u001b[0m \u001b[0;34m\u001b[0m\u001b[0m\n\u001b[0;32m-> 1026\u001b[0;31m     \u001b[0;32mreturn\u001b[0m \u001b[0m_read\u001b[0m\u001b[0;34m(\u001b[0m\u001b[0mfilepath_or_buffer\u001b[0m\u001b[0;34m,\u001b[0m \u001b[0mkwds\u001b[0m\u001b[0;34m)\u001b[0m\u001b[0;34m\u001b[0m\u001b[0;34m\u001b[0m\u001b[0m\n\u001b[0m\u001b[1;32m   1027\u001b[0m \u001b[0;34m\u001b[0m\u001b[0m\n\u001b[1;32m   1028\u001b[0m \u001b[0;34m\u001b[0m\u001b[0m\n",
            "\u001b[0;32m/usr/local/lib/python3.11/dist-packages/pandas/io/parsers/readers.py\u001b[0m in \u001b[0;36m_read\u001b[0;34m(filepath_or_buffer, kwds)\u001b[0m\n\u001b[1;32m    618\u001b[0m \u001b[0;34m\u001b[0m\u001b[0m\n\u001b[1;32m    619\u001b[0m     \u001b[0;31m# Create the parser.\u001b[0m\u001b[0;34m\u001b[0m\u001b[0;34m\u001b[0m\u001b[0m\n\u001b[0;32m--> 620\u001b[0;31m     \u001b[0mparser\u001b[0m \u001b[0;34m=\u001b[0m \u001b[0mTextFileReader\u001b[0m\u001b[0;34m(\u001b[0m\u001b[0mfilepath_or_buffer\u001b[0m\u001b[0;34m,\u001b[0m \u001b[0;34m**\u001b[0m\u001b[0mkwds\u001b[0m\u001b[0;34m)\u001b[0m\u001b[0;34m\u001b[0m\u001b[0;34m\u001b[0m\u001b[0m\n\u001b[0m\u001b[1;32m    621\u001b[0m \u001b[0;34m\u001b[0m\u001b[0m\n\u001b[1;32m    622\u001b[0m     \u001b[0;32mif\u001b[0m \u001b[0mchunksize\u001b[0m \u001b[0;32mor\u001b[0m \u001b[0miterator\u001b[0m\u001b[0;34m:\u001b[0m\u001b[0;34m\u001b[0m\u001b[0;34m\u001b[0m\u001b[0m\n",
            "\u001b[0;32m/usr/local/lib/python3.11/dist-packages/pandas/io/parsers/readers.py\u001b[0m in \u001b[0;36m__init__\u001b[0;34m(self, f, engine, **kwds)\u001b[0m\n\u001b[1;32m   1618\u001b[0m \u001b[0;34m\u001b[0m\u001b[0m\n\u001b[1;32m   1619\u001b[0m         \u001b[0mself\u001b[0m\u001b[0;34m.\u001b[0m\u001b[0mhandles\u001b[0m\u001b[0;34m:\u001b[0m \u001b[0mIOHandles\u001b[0m \u001b[0;34m|\u001b[0m \u001b[0;32mNone\u001b[0m \u001b[0;34m=\u001b[0m \u001b[0;32mNone\u001b[0m\u001b[0;34m\u001b[0m\u001b[0;34m\u001b[0m\u001b[0m\n\u001b[0;32m-> 1620\u001b[0;31m         \u001b[0mself\u001b[0m\u001b[0;34m.\u001b[0m\u001b[0m_engine\u001b[0m \u001b[0;34m=\u001b[0m \u001b[0mself\u001b[0m\u001b[0;34m.\u001b[0m\u001b[0m_make_engine\u001b[0m\u001b[0;34m(\u001b[0m\u001b[0mf\u001b[0m\u001b[0;34m,\u001b[0m \u001b[0mself\u001b[0m\u001b[0;34m.\u001b[0m\u001b[0mengine\u001b[0m\u001b[0;34m)\u001b[0m\u001b[0;34m\u001b[0m\u001b[0;34m\u001b[0m\u001b[0m\n\u001b[0m\u001b[1;32m   1621\u001b[0m \u001b[0;34m\u001b[0m\u001b[0m\n\u001b[1;32m   1622\u001b[0m     \u001b[0;32mdef\u001b[0m \u001b[0mclose\u001b[0m\u001b[0;34m(\u001b[0m\u001b[0mself\u001b[0m\u001b[0;34m)\u001b[0m \u001b[0;34m->\u001b[0m \u001b[0;32mNone\u001b[0m\u001b[0;34m:\u001b[0m\u001b[0;34m\u001b[0m\u001b[0;34m\u001b[0m\u001b[0m\n",
            "\u001b[0;32m/usr/local/lib/python3.11/dist-packages/pandas/io/parsers/readers.py\u001b[0m in \u001b[0;36m_make_engine\u001b[0;34m(self, f, engine)\u001b[0m\n\u001b[1;32m   1878\u001b[0m                 \u001b[0;32mif\u001b[0m \u001b[0;34m\"b\"\u001b[0m \u001b[0;32mnot\u001b[0m \u001b[0;32min\u001b[0m \u001b[0mmode\u001b[0m\u001b[0;34m:\u001b[0m\u001b[0;34m\u001b[0m\u001b[0;34m\u001b[0m\u001b[0m\n\u001b[1;32m   1879\u001b[0m                     \u001b[0mmode\u001b[0m \u001b[0;34m+=\u001b[0m \u001b[0;34m\"b\"\u001b[0m\u001b[0;34m\u001b[0m\u001b[0;34m\u001b[0m\u001b[0m\n\u001b[0;32m-> 1880\u001b[0;31m             self.handles = get_handle(\n\u001b[0m\u001b[1;32m   1881\u001b[0m                 \u001b[0mf\u001b[0m\u001b[0;34m,\u001b[0m\u001b[0;34m\u001b[0m\u001b[0;34m\u001b[0m\u001b[0m\n\u001b[1;32m   1882\u001b[0m                 \u001b[0mmode\u001b[0m\u001b[0;34m,\u001b[0m\u001b[0;34m\u001b[0m\u001b[0;34m\u001b[0m\u001b[0m\n",
            "\u001b[0;32m/usr/local/lib/python3.11/dist-packages/pandas/io/common.py\u001b[0m in \u001b[0;36mget_handle\u001b[0;34m(path_or_buf, mode, encoding, compression, memory_map, is_text, errors, storage_options)\u001b[0m\n\u001b[1;32m    871\u001b[0m         \u001b[0;32mif\u001b[0m \u001b[0mioargs\u001b[0m\u001b[0;34m.\u001b[0m\u001b[0mencoding\u001b[0m \u001b[0;32mand\u001b[0m \u001b[0;34m\"b\"\u001b[0m \u001b[0;32mnot\u001b[0m \u001b[0;32min\u001b[0m \u001b[0mioargs\u001b[0m\u001b[0;34m.\u001b[0m\u001b[0mmode\u001b[0m\u001b[0;34m:\u001b[0m\u001b[0;34m\u001b[0m\u001b[0;34m\u001b[0m\u001b[0m\n\u001b[1;32m    872\u001b[0m             \u001b[0;31m# Encoding\u001b[0m\u001b[0;34m\u001b[0m\u001b[0;34m\u001b[0m\u001b[0m\n\u001b[0;32m--> 873\u001b[0;31m             handle = open(\n\u001b[0m\u001b[1;32m    874\u001b[0m                 \u001b[0mhandle\u001b[0m\u001b[0;34m,\u001b[0m\u001b[0;34m\u001b[0m\u001b[0;34m\u001b[0m\u001b[0m\n\u001b[1;32m    875\u001b[0m                 \u001b[0mioargs\u001b[0m\u001b[0;34m.\u001b[0m\u001b[0mmode\u001b[0m\u001b[0;34m,\u001b[0m\u001b[0;34m\u001b[0m\u001b[0;34m\u001b[0m\u001b[0m\n",
            "\u001b[0;31mFileNotFoundError\u001b[0m: [Errno 2] No such file or directory: 'discount_Factor.csv'"
          ]
        }
      ]
    },
    {
      "cell_type": "code",
      "source": [
        "sabr_df = pd.read_csv('calibrated_params.csv')\n",
        "sabr_df.sort_values(by = \"Expiry\", ascending = True, inplace = True)\n",
        "sabr_df.head()"
      ],
      "metadata": {
        "id": "-h0NMysqGryk"
      },
      "execution_count": null,
      "outputs": []
    },
    {
      "cell_type": "code",
      "source": [
        "forward_swap_rate= pd.read_csv('Forward_Swap_Rate.csv').rename(columns={\"Unnamed: 0\": \"Expiry\"})\n",
        "forward_swap_rate.head()"
      ],
      "metadata": {
        "id": "sDxhPZw5FzGj"
      },
      "execution_count": null,
      "outputs": []
    },
    {
      "cell_type": "code",
      "source": [
        "def parse_tenor(tenor_str):\n",
        "    tenor_str = str(tenor_str).strip().lower()\n",
        "    if tenor_str.endswith(\"y\"):\n",
        "        return float(tenor_str[:-1])\n",
        "    elif tenor_str.endswith(\"m\"):\n",
        "        return float(tenor_str[:-1]) / 12\n",
        "    return float(\"nan\")\n",
        "\n",
        "# Apply to Expiry and Tenor\n",
        "sabr_df[\"Expiry\"] = sabr_df[\"Expiry\"].apply(parse_tenor)\n",
        "sabr_df[\"Tenor\"] = sabr_df[\"Tenor\"].apply(parse_tenor)\n",
        "\n",
        "# Now pivot to get Alpha, Rho, and Nu into 2D format\n",
        "alpha_df = sabr_df.pivot(index=\"Expiry\", columns=\"Tenor\", values=\"Alpha\")\n",
        "rho_df   = sabr_df.pivot(index=\"Expiry\", columns=\"Tenor\", values=\"Rho\")\n",
        "nu_df    = sabr_df.pivot(index=\"Expiry\", columns=\"Tenor\", values=\"Nu\")"
      ],
      "metadata": {
        "id": "D2zVqIIFY_7E"
      },
      "execution_count": null,
      "outputs": []
    },
    {
      "cell_type": "code",
      "source": [
        "alpha_df"
      ],
      "metadata": {
        "id": "ALkLNcfvcEZC"
      },
      "execution_count": null,
      "outputs": []
    },
    {
      "cell_type": "code",
      "source": [
        "\n",
        "# =============================\n",
        "# 2. Discount Factor Interpolation\n",
        "# =============================\n",
        "def libor_df(t):\n",
        "    tenors = disc_df['Tenor'].values\n",
        "    values = disc_df['LIBOR Discount Factor'].values\n",
        "    return np.interp(t, tenors, values)\n",
        "\n",
        "def ois_df(t):\n",
        "    tenors = disc_df['Tenor'].values\n",
        "    values = disc_df['OIS Discount Factor'].values\n",
        "    return np.interp(t, tenors, values)\n"
      ],
      "metadata": {
        "id": "v0dqsojidV3x"
      },
      "execution_count": null,
      "outputs": []
    },
    {
      "cell_type": "markdown",
      "source": [
        "#Models"
      ],
      "metadata": {
        "id": "APlVJ0DHAgCx"
      }
    },
    {
      "cell_type": "markdown",
      "source": [
        "##SABR"
      ],
      "metadata": {
        "id": "Gm8ZwIxDBrKz"
      }
    },
    {
      "cell_type": "markdown",
      "source": [
        "First, we shall implement the SABR model. The implied Black volatility of the SABR model is given by\n",
        "  \\begin{equation*}\n",
        "    \\begin{split}\n",
        "      &\\sigma_{\\mbox{SABR}}(F_0, K, \\alpha, \\beta, \\rho, \\nu) \\\\\n",
        "      &= \\frac{\\alpha}{(F_0K)^{(1-\\beta)/2}\\left\\{ 1 + \\frac{(1-\\beta)^2}{24}\\log^2\\left(\\frac{F_0}{K}\\right) + \\frac{(1-\\beta)^4}{1920}\\log^4\\left(\\frac{F_0}{K}\\right) + \\cdots\\right\\} } \\\\\n",
        "      &\\;\\;\\;\\times \\frac{z}{x(z)} \\times \\left\\{ 1 + \\left[\n",
        "          \\frac{(1-\\beta)^2}{24}\n",
        "          \\frac{\\alpha^2}{(F_0K)^{1-\\beta}}+\\frac{1}{4}\\frac{\\rho\\beta\\nu\\alpha}{(F_0K)^{(1-\\beta)/2}}+\\frac{2-3\\rho^2}{24}\\nu^2\\right]\n",
        "        T + \\cdots \\right.\n",
        "    \\end{split}\n",
        "  \\end{equation*}\n",
        "  where\n",
        "  \\begin{equation*}\n",
        "    \\begin{split}\n",
        "      z = \\frac{\\nu}{\\alpha} (F_0K)^{(1-\\beta)/2}\n",
        "      \\log\\left(\\frac{F_0}{K}\\right),\n",
        "    \\end{split}\n",
        "  \\end{equation*}\n",
        "  and\n",
        "  \\begin{equation*}\n",
        "    \\begin{split}\n",
        "      x(z) = \\log \\left[ \\frac{\\sqrt{1-2\\rho z+z^2}+z -\\rho}{1-\\rho}\n",
        "      \\right].\n",
        "    \\end{split}\n",
        "  \\end{equation*}\n",
        "\n"
      ],
      "metadata": {
        "id": "xOsu5UbtMQpL"
      }
    },
    {
      "cell_type": "markdown",
      "source": [
        "> Interpolating SABR parameters"
      ],
      "metadata": {
        "id": "cgfZqywIhSK7"
      }
    },
    {
      "cell_type": "code",
      "source": [
        "\n",
        "# =============================\n",
        "# 3. 2D Parameter Interpolation using RectBivariateSpline\n",
        "# =============================\n",
        "def param_interp(expiry, tenor, df_param):\n",
        "    # Use quadratic interpolation (kx=2, ky=2) because there are only 3 expiry points.\n",
        "    exp_vals = df_param.index.values.astype(float)\n",
        "    tenor_vals = np.array(list(df_param.columns), dtype=float)\n",
        "    spline = RectBivariateSpline(exp_vals, tenor_vals, df_param.values, kx=2, ky=2)\n",
        "    return float(spline(expiry, tenor))\n"
      ],
      "metadata": {
        "id": "ZcYR6yDtdYGB"
      },
      "execution_count": null,
      "outputs": []
    },
    {
      "cell_type": "markdown",
      "source": [
        "To plot the implied volatility smile for the normal (Bachelier) model, just replaced the \"BlackScholesCall\" with the Bachelier formula.\n",
        "\n",
        "Next, we look at the SABR model. The definition above contains the function\n",
        "\n",
        "\\begin{equation*}\n",
        "\\begin{split}\n",
        "\\mbox{SABR}(F, K, T, \\alpha, \\beta, \\rho, \\nu)\n",
        "\\end{split}\n",
        "\\end{equation*}\n",
        "\n",
        "The function returns a volatility $\\sigma_{\\mbox{SABR}}$ for the Black76Lognormal call or put option formula, so that\n",
        "\n",
        "\\begin{equation*}\n",
        "\\begin{split}\n",
        "\\mbox{Call price} &= \\mbox{BlackScholesCall}(S, K, r, \\sigma_{\\mbox{SABR}}, T) \\\\\n",
        "\\mbox{Put price} &= \\mbox{BlackScholesPut}(S, K, r, \\sigma_{\\mbox{SABR}}, T) \\\\\n",
        "\\end{split}\n",
        "\\end{equation*}\n",
        "\n",
        "How do we determine the parameters $\\alpha$, $\\rho$ and $\\nu$?\n",
        "- We choose them so that the output of the SABR model matches the implied volatilities observed in the market.\n",
        "- We refer to this process as \"model calibration\".\n",
        "\n",
        "In other words, defining\n",
        "\n",
        "  \\begin{equation*}\n",
        "    \\begin{split}\n",
        "      \\sigma_{\\mbox{Mkt}}(K_1) - \\mbox{SABR}(F, K_1, T, \\alpha, 0.9, \\rho, \\nu) &= \\epsilon_1 \\\\\n",
        "      \\sigma_{\\mbox{Mkt}}(K_2) - \\mbox{SABR}(F, K_2, T, \\alpha, 0.9, \\rho, \\nu) &= \\epsilon_2 \\\\\n",
        "      \\vdots&\\\\\n",
        "      \\sigma_{\\mbox{Mkt}}(K_n) - \\mbox{SABR}(F, K_n, T, \\alpha, 0.9, \\rho, \\nu) &= \\epsilon_n \\\\\n",
        "    \\end{split}\n",
        "  \\end{equation*}\n",
        "\n",
        "We want to minimize the sum of squared error terms as follows:\n",
        "  \n",
        "  \\begin{equation*}\n",
        "    \\begin{split}\n",
        "      \\min_{\\substack{\\alpha,\\; \\rho,\\; \\nu}} \\;\\sum_{i=1}^n \\epsilon_i^2\n",
        "    \\end{split}\n",
        "  \\end{equation*}\n",
        "\n",
        "We use the \"least_squares\" algorithm in \"scipy\" package to calibrate the SABR model parameters:\n"
      ],
      "metadata": {
        "id": "4rExMWEgfCo3"
      }
    },
    {
      "cell_type": "code",
      "source": [
        "\n",
        "# =============================\n",
        "# 4. SABR Volatility Calculation\n",
        "# =============================\n",
        "def sabr_implied_vol(F, K, T, alpha, beta, rho, nu):\n",
        "    \"\"\"\n",
        "    Compute the SABR model implied volatility given market inputs.\n",
        "\n",
        "    Parameters:\n",
        "        F (float): Forward rate.\n",
        "        K (float): Strike rate.\n",
        "        T (float): Time to maturity (years).\n",
        "        alpha (float): SABR alpha parameter.\n",
        "        beta (float): SABR beta parameter.\n",
        "        rho (float): SABR rho parameter.\n",
        "        nu (float): SABR nu parameter (volatility of volatility).\n",
        "\n",
        "    Returns:\n",
        "        float: Implied volatility computed by the SABR model.\n",
        "    \"\"\"\n",
        "    # Use K directly as X\n",
        "    X = K\n",
        "\n",
        "    # At-the-money (ATM) case\n",
        "    if abs(F - K) < 1e-12:\n",
        "        numer1 = (((1 - beta) ** 2) / 24) * (alpha ** 2) / (F ** (2 - 2 * beta))\n",
        "        numer2 = 0.25 * rho * beta * nu * alpha / (F ** (1 - beta))\n",
        "        numer3 = ((2 - 3 * rho ** 2) / 24) * (nu ** 2)\n",
        "        VolAtm = alpha * (1 + (numer1 + numer2 + numer3) * T) / (F ** (1 - beta))\n",
        "        sabr_sigma = VolAtm\n",
        "    else:\n",
        "        # Non-ATM case: compute the intermediate variables\n",
        "        z = (nu / alpha) * ((F * X) ** (0.5 * (1 - beta))) * np.log(F / X)\n",
        "        zhi = np.log((np.sqrt(1 - 2 * rho * z + z ** 2) + z - rho) / (1 - rho))\n",
        "        numer1 = (((1 - beta) ** 2) / 24) * (alpha ** 2) / ((F * X) ** (1 - beta))\n",
        "        numer2 = 0.25 * rho * beta * nu * alpha / ((F * X) ** ((1 - beta) / 2))\n",
        "        numer3 = ((2 - 3 * rho ** 2) / 24) * (nu ** 2)\n",
        "        numer = alpha * (1 + (numer1 + numer2 + numer3) * T) * z\n",
        "\n",
        "        denom1 = ((1 - beta) ** 2 / 24) * (np.log(F / X)) ** 2\n",
        "        denom2 = (((1 - beta) ** 4) / 1920) * (np.log(F / X)) ** 4\n",
        "        denom = ((F * X) ** ((1 - beta) / 2)) * (1 + denom1 + denom2) * zhi\n",
        "\n",
        "        sabr_sigma = numer / denom\n",
        "\n",
        "    return sabr_sigma\n"
      ],
      "metadata": {
        "id": "LzoF7pU6daBT"
      },
      "execution_count": null,
      "outputs": []
    },
    {
      "cell_type": "markdown",
      "source": [
        "##Forward Swap Rate"
      ],
      "metadata": {
        "id": "L3OnOPWdB4Up"
      }
    },
    {
      "cell_type": "markdown",
      "source": [
        "*Forward_SWAP_RATE* :\n",
        "1. Floating leg cash flows:\n",
        "\n",
        "- At each payment date $ T_i $, the forward LIBOR rate is approximated using discount factors:\n",
        "$\n",
        "\\text{Fwd L}(T_{i-1}, T_i) \\approx \\frac{1}{\\Delta} \\left( \\frac{DF(T_{i-1}) - DF(T_i)}{DF(T_i)} \\right)\n",
        "$\n",
        "\n",
        "- Multiply this by the OIS discount factor $ OIS(T_i) \\cdot \\Delta $ to get PV.\n",
        "\n",
        "2. Fixed leg cash flows:\n",
        "$\n",
        "\\sum_{i=1}^{n} OIS(T_i) \\cdot \\Delta\n",
        "$\n",
        "3. $\n",
        "\\text{Forward Swap Rate} = \\frac{\\text{Floating Leg PV}}{\\text{Fixed Leg PV}}\n",
        "$\n"
      ],
      "metadata": {
        "id": "54mQ5DMdhPG9"
      }
    },
    {
      "cell_type": "code",
      "source": [
        "\n",
        "# =============================\n",
        "# 5. Forward Swap Rate Computation\n",
        "# =============================\n",
        "def forward_swap(expiry, tenor, delta):\n",
        "    num_periods = int(tenor / delta)\n",
        "    fl_sum = 0.0\n",
        "    fix_sum = 0.0\n",
        "    for i in range(1, num_periods+1):\n",
        "        t = expiry + i * delta\n",
        "        # Compute the forward LIBOR rate from discount factors\n",
        "        fwd_libor = (libor_df(expiry + (i-1)*delta) - libor_df(expiry + i*delta)) / (delta * libor_df(expiry + i*delta))\n",
        "        fl_sum += ois_df(t) * fwd_libor * delta\n",
        "        fix_sum += ois_df(expiry + i*delta) * delta\n",
        "    return float(fl_sum / fix_sum)\n"
      ],
      "metadata": {
        "id": "iveYvUrMdcaI"
      },
      "execution_count": null,
      "outputs": []
    },
    {
      "cell_type": "markdown",
      "source": [
        "##CMS Convexity Adjustment"
      ],
      "metadata": {
        "id": "-LE8J4q_B-nN"
      }
    },
    {
      "cell_type": "markdown",
      "source": [
        ">IRR functions"
      ],
      "metadata": {
        "id": "95kcIcR8kfy1"
      }
    },
    {
      "cell_type": "code",
      "source": [
        "\n",
        "# =============================\n",
        "# 6. CMS Convexity Adjustment Functions\n",
        "# =============================\n",
        "def irr_value(T, d, k):\n",
        "    periods = int(T / d)\n",
        "    return sum([d * (1 + k * d)**(-i) for i in range(1, periods+1)])\n",
        "\n",
        "def irr_first(T, d, k):\n",
        "    periods = int(T / d)\n",
        "    return sum([-i * d**2 * (1 + k * d)**(-i-1) for i in range(1, periods+1)])\n",
        "\n",
        "def irr_second(T, d, k):\n",
        "    periods = int(T / d)\n",
        "    return sum([-i*(i+1) * d**3 * (1 + k * d)**(-i-2) for i in range(1, periods+1)])\n",
        "\n",
        "def conv_weight(T, d, k):\n",
        "    irr0 = irr_value(T, d, k)\n",
        "    irr1 = irr_first(T, d, k)\n",
        "    irr2 = irr_second(T, d, k)\n",
        "    return (-irr2*k - 2*irr1) / (irr0**2) + 2*(irr1**2)*k/(irr0**3)\n"
      ],
      "metadata": {
        "id": "lb6vYdDtdeev"
      },
      "execution_count": null,
      "outputs": []
    },
    {
      "cell_type": "markdown",
      "source": [
        "##Black76"
      ],
      "metadata": {
        "id": "GCUw6V44BwZ-"
      }
    },
    {
      "cell_type": "markdown",
      "source": [
        "> Price European Option"
      ],
      "metadata": {
        "id": "fuFmxUNdfvH4"
      }
    },
    {
      "cell_type": "markdown",
      "source": [
        "*`Black-76 Call`*\n",
        "\n",
        "$$\n",
        "V_{call} = \\left[ F \\Phi(d_1) - K \\Phi(d_2) \\right]\n",
        "$$\n",
        "\n",
        "where:\n",
        "\n",
        "$$\n",
        "d_1 = \\frac{\\ln \\left( \\frac{F}{K} \\right) + \\frac{1}{2} \\sigma^2 T}{\\sigma \\sqrt{T}}\n",
        "$$\n",
        "\n",
        "$$\n",
        "d_2 = d_1 - \\sigma \\sqrt{T}\n",
        "$$\n",
        "\n",
        "*` Black-76 Put Formula `*\n",
        "\n",
        "$$\n",
        "V_{put} = \\left[ K \\Phi(-d_2) - F \\Phi(-d_1) \\right]\n",
        "$$\n",
        "\n",
        "where:\n",
        "\n",
        "$$\n",
        "d_1 = \\frac{\\ln \\left( \\frac{F}{K} \\right) + \\frac{1}{2} \\sigma^2 T}{\\sigma \\sqrt{T}}\n",
        "$$\n",
        "\n",
        "$$\n",
        "d_2 = d_1 - \\sigma \\sqrt{T}\n",
        "$$\n",
        "\n",
        "**Note:**  $\\Phi(\\cdot)$ is the cumulative standard normal distribution function."
      ],
      "metadata": {
        "id": "P9zj2a8_ApDT"
      }
    },
    {
      "cell_type": "code",
      "source": [
        "\n",
        "# =============================\n",
        "# 7. Black76 Pricing for CMS Options\n",
        "# =============================\n",
        "def black76_call(F, K, sigma, T):\n",
        "    \"\"\"\n",
        "    Price a European call option using the Black-76 formula.\n",
        "\n",
        "    Parameters:\n",
        "        F (float): Forward rate.\n",
        "        K (float): Strike rate.\n",
        "        PVBP (float): Present Value of a Basis Point (annuity factor).\n",
        "        sigma (float): Volatility.\n",
        "        T (float): Time to maturity (in years).\n",
        "\n",
        "    Returns:\n",
        "        float: Call option price.\n",
        "    \"\"\"\n",
        "    d1 = (np.log(F / K) + 0.5 * sigma**2 * T) / (sigma * np.sqrt(T))\n",
        "    d2 = d1 - sigma * np.sqrt(T)\n",
        "    return (F * norm.cdf(d1) - K * norm.cdf(d2))\n",
        "\n",
        "def black76_put(F, K, sigma, T):\n",
        "    \"\"\"\n",
        "    Price a European put option using the Black-76 formula.\n",
        "\n",
        "    Parameters:\n",
        "        F (float): Forward rate.\n",
        "        K (float): Strike rate.\n",
        "        PVBP (float): Present Value of a Basis Point (annuity factor).\n",
        "        sigma (float): Volatility.\n",
        "        T (float): Time to maturity (in years).\n",
        "\n",
        "    Returns:\n",
        "        float: Put option price.\n",
        "    \"\"\"\n",
        "    d1 = (np.log(F / K) + 0.5 * sigma**2 * T) / (sigma * np.sqrt(T))\n",
        "    d2 = d1 - sigma * np.sqrt(T)\n",
        "    return (K * norm.cdf(-d2) - F * norm.cdf(-d1))\n",
        "\n",
        "def cms_option_integral(F, K, T, sigma, tenor, delta, opt):\n",
        "    weight = conv_weight(tenor, delta, K)\n",
        "    if str(opt).lower() == 'call':\n",
        "      price = weight * black76_call(F, K, T, sigma)\n",
        "    elif str(opt).lower() == 'put':\n",
        "      price = weight * black76_put(F, K, T, sigma)\n",
        "    return price\n"
      ],
      "metadata": {
        "id": "L1UJdYwpdgdt"
      },
      "execution_count": null,
      "outputs": []
    },
    {
      "cell_type": "markdown",
      "source": [
        "## CMS Rate via Static Replication (Carr-Madan Formula)\n",
        "\n",
        "The CMS rate at time \\( T \\) is given by:\n",
        "\n",
        "$$\n",
        "\\mathbb{E}^{T} \\left[ S_{n,N}(T) \\right] = g(F) + \\frac{1}{D(0,T)} \\left[ \\int_0^F h''(K)V^{rec}(K) \\, dK + \\int_F^\\infty h''(K)V^{pay}(K) \\, dK \\right]\n",
        "$$\n"
      ],
      "metadata": {
        "id": "q4IMMdhzgPz1"
      }
    },
    {
      "cell_type": "code",
      "source": [
        "\n",
        "# =============================\n",
        "# 8. CMS Rate Calculation\n",
        "# =============================\n",
        "def cms_rate(expiry, tenor, delta):\n",
        "    Fwd = forward_swap(expiry, tenor, delta)\n",
        "    # Interpolate SABR parameters using our 2D spline\n",
        "    a = param_interp(expiry, tenor, alpha_df)\n",
        "    r_val = param_interp(expiry, tenor, rho_df)\n",
        "    v = param_interp(expiry, tenor, nu_df)\n",
        "    # SABR-implied vol for strike K\n",
        "    vol_K = lambda K: sabr_implied_vol(Fwd, K, expiry, a, 0.9, r_val, v)\n",
        "\n",
        "    eps = 1e-6\n",
        "    # Integrate put component from eps to Fwd\n",
        "    put_adj, _ = quad(lambda K: cms_option_integral(Fwd, K, expiry, vol_K(K), tenor, delta, 'Put'),\n",
        "                      eps, Fwd)\n",
        "    # Integrate call component from Fwd to an upper limit (e.g., 1.1*Fwd)\n",
        "    call_adj, _ = quad(lambda K: cms_option_integral(Fwd, K, expiry, vol_K(K), tenor, delta, 'Call'),\n",
        "                       Fwd, Fwd*1.1)\n",
        "    return Fwd + put_adj + call_adj\n"
      ],
      "metadata": {
        "id": "-C_Qi91ldjL9"
      },
      "execution_count": null,
      "outputs": []
    },
    {
      "cell_type": "markdown",
      "source": [
        "###  General Formula for CMS Leg PV:\n",
        "\n",
        "$$\n",
        "\\text{PV}_{\\text{CMS}} = \\sum_{i=1}^{N} \\Delta_i \\cdot \\mathbb{E}^{T_i} \\left[ \\text{CMS}_{n,N}(T_i) \\right] \\cdot DF(0, T_i)\n",
        "$$\n",
        "\n",
        "**Where:**\n",
        "\n",
        "- $ T_i $: payment dates (e.g., every 0.5 years)\n",
        "- $ \\Delta_i $: accrual factor for each period (e.g., 0.5 for semiannual)\n",
        "- $ \\text{CMS}_{n,N}(T_i) $: convexity-adjusted CMS rate observed at time $ T_i $, referencing a swap from $ T_i $ to $ T_i + N $\n",
        "- $ DF(0, T_i) $: discount factor from time 0 to $ T_i $, usually OIS-based\n",
        "- $ \\mathbb{E}^{T_i}[\\cdot] $: expectation under the $ T_i $ -forward measure, computed via static replication\n"
      ],
      "metadata": {
        "id": "OChQ4UsJAqoD"
      }
    },
    {
      "cell_type": "code",
      "source": [
        "\n",
        "# =============================\n",
        "# 9. CMS Leg Present Value\n",
        "# =============================\n",
        "def present_value_cms(cms_tenor, leg_years, delta):\n",
        "    num_payments = int(leg_years / delta)\n",
        "    pv = 0.0\n",
        "    for i in range(1, num_payments+1):\n",
        "        fixing_time = i * delta\n",
        "        discount = ois_df(fixing_time)\n",
        "        cms_rt = cms_rate(fixing_time, cms_tenor, delta)\n",
        "        pv += delta * discount * cms_rt\n",
        "    return pv\n"
      ],
      "metadata": {
        "id": "iyoDOM2vdkWL"
      },
      "execution_count": null,
      "outputs": []
    },
    {
      "cell_type": "markdown",
      "source": [
        "# Question 1:\n",
        "### Calculate PV of\n",
        "> a leg receiving CMS10y semi-annually over the next 5 years \\\\\n",
        "> a leg receiving CMS2y quarterly over 10 years"
      ],
      "metadata": {
        "id": "plzcMeAZTohO"
      }
    },
    {
      "cell_type": "code",
      "source": [
        "\n",
        "# =============================\n",
        "# 10. Output & Visualization\n",
        "# =============================\n",
        "print(\"PV of receiving CMS10y semi-annually over 5y:\", present_value_cms(10, 5, 0.5))\n",
        "print(\"PV of receiving CMS2y quarterly over 10y:\", present_value_cms(2, 10, 0.25))\n"
      ],
      "metadata": {
        "id": "QcOYDCuwdmXQ"
      },
      "execution_count": null,
      "outputs": []
    },
    {
      "cell_type": "markdown",
      "source": [
        "# Question 2:\n",
        "### Compare the forward swap rates with the CMS rate"
      ],
      "metadata": {
        "id": "I5E_v7OPN7Bg"
      }
    },
    {
      "cell_type": "code",
      "source": [
        "\n",
        "# Build a comparison table for different forward start dates and tenors\n",
        "fwd_starts = [1, 5, 10]\n",
        "swap_tenors = [1, 2, 3, 5, 10]\n",
        "results = []\n",
        "\n",
        "for start in fwd_starts:\n",
        "    for ten in swap_tenors:\n",
        "        cms_rt = cms_rate(start, ten, 0.5)\n",
        "        fwd_rt = forward_swap(start, ten, 0.5)\n",
        "        results.append({\n",
        "            \"Expiry x Tenor\": f\"{start} x {ten}\",\n",
        "            \"CMS_rate\": round(cms_rt, 6),\n",
        "            \"Forward_Swap_rate\": round(fwd_rt, 6)\n",
        "        })\n",
        "\n",
        "df_results = pd.DataFrame(results)\n",
        "df_results['diff'] = df_results['CMS_rate'] - df_results['Forward_Swap_rate']\n",
        "print(df_results)\n"
      ],
      "metadata": {
        "id": "0M7xkNAIdpJ-"
      },
      "execution_count": null,
      "outputs": []
    },
    {
      "cell_type": "code",
      "source": [
        "# Plot rates per expiry bucket\n",
        "for idx, bucket in enumerate(['Maturity = 1 year', 'Maturity = 5 years', 'Maturity = 10 years']):\n",
        "    start_idx = idx * len(swap_tenors)\n",
        "    end_idx = (idx+1) * len(swap_tenors)\n",
        "    plt.figure(figsize=(8,4))\n",
        "    plt.plot(swap_tenors, df_results[\"CMS_rate\"].iloc[start_idx:end_idx], '-o', color='red', label=\"CMS Rate\")\n",
        "    plt.plot(swap_tenors, df_results[\"Forward_Swap_rate\"].iloc[start_idx:end_idx], '-s', color='blue', label=\"Forward Swap Rate\")\n",
        "    plt.title(bucket)\n",
        "    plt.xlabel(\"Swap Tenor (Years)\")\n",
        "    plt.ylabel(\"Rate\")\n",
        "    plt.legend()\n",
        "    plt.grid(True)\n",
        "    plt.tight_layout()\n",
        "    plt.show()\n"
      ],
      "metadata": {
        "id": "ZzmhY7uLdsN_"
      },
      "execution_count": null,
      "outputs": []
    },
    {
      "cell_type": "markdown",
      "source": [
        "#Additional Analysis"
      ],
      "metadata": {
        "id": "-_gl-wFNptWI"
      }
    },
    {
      "cell_type": "code",
      "source": [
        "# Plot convexity premium\n",
        "df_results[\"Convexity_Premium\"] = df_results[\"CMS_rate\"] - df_results[\"Forward_Swap_rate\"]\n",
        "df_results.plot(x=\"Expiry x Tenor\", y=\"Convexity_Premium\", kind=\"bar\", figsize=(10,5), grid=True)\n",
        "plt.show()"
      ],
      "metadata": {
        "id": "GTG9sFkrnbW3"
      },
      "execution_count": null,
      "outputs": []
    }
  ]
}